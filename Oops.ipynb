{
  "nbformat": 4,
  "nbformat_minor": 0,
  "metadata": {
    "colab": {
      "provenance": [],
      "authorship_tag": "ABX9TyMRDXakI7L/HLXjAoFfrFdH",
      "include_colab_link": true
    },
    "kernelspec": {
      "name": "python3",
      "display_name": "Python 3"
    },
    "language_info": {
      "name": "python"
    }
  },
  "cells": [
    {
      "cell_type": "markdown",
      "metadata": {
        "id": "view-in-github",
        "colab_type": "text"
      },
      "source": [
        "<a href=\"https://colab.research.google.com/github/SaiyadaMubballigha/python/blob/main/Oops.ipynb\" target=\"_parent\"><img src=\"https://colab.research.google.com/assets/colab-badge.svg\" alt=\"Open In Colab\"/></a>"
      ]
    },
    {
      "cell_type": "code",
      "execution_count": null,
      "metadata": {
        "colab": {
          "base_uri": "https://localhost:8080/"
        },
        "id": "6ntpbJOdpcAD",
        "outputId": "a47baa00-0cfa-423c-b876-75ec3fe706b2"
      },
      "outputs": [
        {
          "output_type": "stream",
          "name": "stdout",
          "text": [
            "390\n",
            "classic350\n"
          ]
        }
      ],
      "source": [
        "class Bike:\n",
        "  pass\n",
        "\n",
        "Duke=Bike()\n",
        "Duke.name=\"RC390\"\n",
        "Duke.cc=390\n",
        "print(Duke.cc)\n",
        "\n",
        "RE=Bike()\n",
        "RE.name=\"classic350\"\n",
        "RE.CC=350\n",
        "print(RE.name)"
      ]
    },
    {
      "cell_type": "code",
      "source": [
        "from os import name\n",
        "class Bike:\n",
        "   def __init__(self,name,cc):\n",
        "     self.bike_name=name\n",
        "     self.bike_cc=cc\n",
        "\n",
        "Duke=Bike(\"RC390\",390)\n",
        "RE=Bike(\"Classic350\",350)\n",
        "\n",
        "print(Duke.bike_name)\n",
        "print(RE.bike_name)"
      ],
      "metadata": {
        "colab": {
          "base_uri": "https://localhost:8080/"
        },
        "id": "IPlLl5CFpm6J",
        "outputId": "b747f024-3e30-4be6-b1c9-4eab0e6733b2"
      },
      "execution_count": null,
      "outputs": [
        {
          "output_type": "stream",
          "name": "stdout",
          "text": [
            "RC390\n",
            "Classic350\n"
          ]
        }
      ]
    },
    {
      "cell_type": "code",
      "source": [
        "class Bike:\n",
        "    def __init__(self,name,cc):\n",
        "        self.bike_name=name\n",
        "        self.bike_cc=cc\n",
        "\n",
        "    def Sound(self):\n",
        "        print(f\"{self.bike_name} is loud\")\n",
        "\n",
        "Duke=Bike(\"RC390\",390)\n",
        "RE=Bike(\"Classic350\",350)\n",
        "\n",
        "print(Duke.bike_name)\n",
        "print(RE.bike_name)\n",
        "Duke.Sound()"
      ],
      "metadata": {
        "colab": {
          "base_uri": "https://localhost:8080/"
        },
        "id": "FeuLDVfSprf9",
        "outputId": "8dc9a706-9683-4c02-fec7-20c72f8ab982"
      },
      "execution_count": null,
      "outputs": [
        {
          "output_type": "stream",
          "name": "stdout",
          "text": [
            "RC390\n",
            "Classic350\n",
            "RC390 is loud\n"
          ]
        }
      ]
    },
    {
      "cell_type": "code",
      "source": [
        "class Animal:\n",
        "  def __init__(self,name,colour):\n",
        "    self.animal_name=name\n",
        "    self.animal_colour=colour\n",
        "\n",
        "  def Sound(self):\n",
        "    print(f\"{self.animal_name}is loud\")\n",
        "\n",
        "Dog=Animal(\"beagle\",\"brown\")\n",
        "Cat=Animal(\"persian\",\"white\")\n",
        "\n",
        "print(Dog.animal_name)\n",
        "print(Dog.animal_colour)\n",
        "print(Cat.animal_name)\n",
        "print(Cat.animal_colour)\n",
        "Dog.Sound()\n"
      ],
      "metadata": {
        "colab": {
          "base_uri": "https://localhost:8080/"
        },
        "id": "sCMh-hfJpwyn",
        "outputId": "23c4c0c0-b40c-4ec3-a253-291095b0becb"
      },
      "execution_count": null,
      "outputs": [
        {
          "output_type": "stream",
          "name": "stdout",
          "text": [
            "beagle\n",
            "brown\n",
            "persian\n",
            "white\n",
            "beagleis loud\n"
          ]
        }
      ]
    },
    {
      "cell_type": "code",
      "source": [
        "class Student_date:\n",
        "  def __init__(self,name,marks,roll_number):\n",
        "    self.student_name=name\n",
        "    self.student_marks=marks\n",
        "    self.student_roll_number=roll_number\n",
        "\n",
        "name=input(\"enter the name of student\")\n",
        "roll_number=int(input(\"enter the roll-number of the student\"))\n",
        "marks=int(input(\"enter the marks of student\"))\n",
        "if(marks>=35 and marks<=50):\n",
        "     print(\"pass\")\n",
        "else:\n",
        "     print(\"fail\")\n"
      ],
      "metadata": {
        "colab": {
          "base_uri": "https://localhost:8080/"
        },
        "id": "_3loLUKMpzBY",
        "outputId": "47b9756e-bab9-4039-d803-881d2cdd3836"
      },
      "execution_count": null,
      "outputs": [
        {
          "output_type": "stream",
          "name": "stdout",
          "text": [
            "enter the name of studentsyeda\n",
            "enter the roll-number of the student143\n",
            "enter the marks of student30\n",
            "fail\n"
          ]
        }
      ]
    },
    {
      "cell_type": "code",
      "source": [
        "class Animal:\n",
        "  def __init__(self,name,colour,leg):\n",
        "    self.animal_name=name\n",
        "    self.animal_colour=colour\n",
        "    self.animal_legs=leg\n",
        "\n",
        "  def category(self):\n",
        "    if self.animal_legs > 0:\n",
        "      print(\"land animal\")\n",
        "    else:\n",
        "      print(\"water animal\")\n",
        "\n",
        "Dog=Animal(\"beagle\",\"brown\",4)\n",
        "Fish=Animal(\"whale\",\"blue\",0)\n",
        "\n",
        "print(Dog.animal_name)\n",
        "print(Dog.animal_colour)\n",
        "print(Dog.animal_legs)\n",
        "print(Fish.animal_name)\n",
        "print(Fish.animal_colour)\n",
        "print(Fish.animal_legs)\n",
        "\n",
        "Dog.category()\n",
        "Fish.category()\n"
      ],
      "metadata": {
        "colab": {
          "base_uri": "https://localhost:8080/"
        },
        "id": "FT68jrzGp_WP",
        "outputId": "765327d4-1090-4d47-984e-2db215c5088b"
      },
      "execution_count": null,
      "outputs": [
        {
          "output_type": "stream",
          "name": "stdout",
          "text": [
            "beagle\n",
            "brown\n",
            "4\n",
            "whale\n",
            "blue\n",
            "0\n",
            "land animal\n",
            "water animal\n"
          ]
        }
      ]
    },
    {
      "cell_type": "code",
      "source": [
        "class Human:\n",
        "  def __init__(self,hobby,food):\n",
        "    self.fav_hobby=hobby\n",
        "    self.fav_food=food\n",
        "\n",
        "  def display_info(self):\n",
        "    print(f\"she plays{self.fav_hobby},and she likes{self.fav_food}\")\n",
        "\n",
        "class syeda(Human):\n",
        "  def __init__(self,hobby,food,language):\n",
        "    super().__init__(hobby,food)\n",
        "    self.fav_language=language\n",
        "\n",
        "  def display_info(self):\n",
        "    super().display_info()\n",
        "    print(f\"language she speaks{self.fav_language}\")\n",
        "\n",
        "user = syeda(\"games\",\"biryani\",\"hindi\")\n",
        "\n",
        "user.display_info()"
      ],
      "metadata": {
        "colab": {
          "base_uri": "https://localhost:8080/"
        },
        "id": "AJ1VH2-NqFEH",
        "outputId": "c009b625-b1f2-4717-80a2-90bc11d8570c"
      },
      "execution_count": null,
      "outputs": [
        {
          "output_type": "stream",
          "name": "stdout",
          "text": [
            "she playsgames,and she likesbiryani\n",
            "language she speakshindi\n"
          ]
        }
      ]
    },
    {
      "cell_type": "code",
      "source": [
        "class Student:\n",
        "    def __init__(self,name,roll_number,password):\n",
        "        self.name=name\n",
        "        self._roll_number=roll_number\n",
        "        self.__password=password\n",
        "\n",
        "    def display_details(self):\n",
        "        print(\"name:\",self.name)\n",
        "        print(\"roll_number:\",self._roll_number)\n",
        "        print(\"password:\",self.__password)\n",
        "\n",
        "    def password(self):\n",
        "        return self.__password\n",
        "\n",
        "\n",
        "    def set_password(self,new_password):\n",
        "        self.__password=new_password\n",
        "\n",
        "student=Student(\"aaa\",\"a01\",\"secure_password\")\n",
        "print(\"name(Public):\",student.name)\n",
        "print(\"roll_number(Protected):\",student._roll_number)\n",
        "print(\"password(Private):\",student.password())\n",
        "\n",
        "student.set_password(\"new_password\")\n",
        "student.display_details()\n"
      ],
      "metadata": {
        "colab": {
          "base_uri": "https://localhost:8080/"
        },
        "id": "z5i_awqXqyjV",
        "outputId": "6266146e-b7f6-4605-fdea-7f6e3cf9c09d"
      },
      "execution_count": null,
      "outputs": [
        {
          "output_type": "stream",
          "name": "stdout",
          "text": [
            "name(Public): aaa\n",
            "roll_number(Protected): a01\n",
            "password(Private): secure_password\n",
            "name: aaa\n",
            "roll_number: a01\n",
            "password: new_password\n"
          ]
        }
      ]
    },
    {
      "cell_type": "code",
      "source": [
        "class User:\n",
        "  def __init__(self,username,password=\"123456789\"):\n",
        "    self._username=username\n",
        "    self.__password=password\n",
        "  def check_password(self,password):\n",
        "    return self.__password==password\n",
        "\n",
        "  def change_password(self,new_password):\n",
        "    self.__password=new_password\n",
        "    print(\"password changed successfully!\")\n",
        "\n",
        "  def get_username(self):\n",
        "    return self._username\n",
        "\n",
        "username=input(\"enter your username:\")\n",
        "user=User(username)\n",
        "password=input(\"enter your password:\")\n",
        "\n",
        "if user.check_password(password):\n",
        "  print(\"welcome, {}!\".format(user.get_username()))\n",
        "else:\n",
        "  print(\"password incorrect\")\n",
        "  change_option=input(\"do you want to change your password?(yes/no):\").lower()\n",
        "if change_option==\"yes\":\n",
        "   new_password=input(\"enter your new password:\")\n",
        "   user.change_password(new_password)\n",
        "else:\n",
        "  print(\"goodbye!\")\n"
      ],
      "metadata": {
        "colab": {
          "base_uri": "https://localhost:8080/"
        },
        "id": "PTXQav8vq1Ru",
        "outputId": "610da757-d622-43a0-9fa1-087859a4e94b"
      },
      "execution_count": null,
      "outputs": [
        {
          "output_type": "stream",
          "name": "stdout",
          "text": [
            "enter your username:syeda\n",
            "enter your password:987654321\n",
            "password incorrect\n",
            "do you want to change your password?(yes/no):143\n",
            "goodbye!\n"
          ]
        }
      ]
    },
    {
      "cell_type": "code",
      "source": [
        "class Animal:\n",
        "  def speak(self):\n",
        "    pass\n",
        "\n",
        "class Dog(Animal):\n",
        "  def speak(self):\n",
        "    return \"woof!\"\n",
        "\n",
        "class Cat(Animal):\n",
        "  def speak(self):\n",
        "    return \"meow!\"\n",
        "\n",
        "def make_animal_speak(animal):\n",
        "  print(animal.speak())\n",
        "\n",
        "dog=Dog()\n",
        "cat=Cat()\n",
        "\n",
        "make_animal_speak(dog)\n",
        "make_animal_speak(cat)"
      ],
      "metadata": {
        "colab": {
          "base_uri": "https://localhost:8080/"
        },
        "id": "4qyOUjIcrOBu",
        "outputId": "c9fc6ef1-d5dd-48d6-bb05-aa328d863aad"
      },
      "execution_count": null,
      "outputs": [
        {
          "output_type": "stream",
          "name": "stdout",
          "text": [
            "woof!\n",
            "meow!\n"
          ]
        }
      ]
    },
    {
      "cell_type": "code",
      "source": [
        "'''operater overloading'''\n",
        "class ComplexNumber:\n",
        "  def __init__(self,real,imaginary):\n",
        "    self.real=real\n",
        "    self.imaginary=imaginary\n",
        "\n",
        "  def __add__(self,other):\n",
        "    return(f\"{self.real+other.real}+{self.imaginary+other.imaginary}i\")\n",
        "\n",
        "c1=ComplexNumber(2,2)\n",
        "c2=ComplexNumber(1,2)\n",
        "\n",
        "print(c1+c2)"
      ],
      "metadata": {
        "colab": {
          "base_uri": "https://localhost:8080/"
        },
        "id": "IYtu30n-rrTr",
        "outputId": "96511ea4-a2bb-4df2-c027-33a938397149"
      },
      "execution_count": null,
      "outputs": [
        {
          "output_type": "stream",
          "name": "stdout",
          "text": [
            "3+4i\n"
          ]
        }
      ]
    },
    {
      "cell_type": "code",
      "source": [
        "class ComplexNumber:\n",
        "  def __init__(self,real,imaginary):\n",
        "    self.real=real\n",
        "    self.imaginary=imaginary\n",
        "  def __sub__(self,other):\n",
        "    return(f\"{self.real-other.real}-{self.imaginary-other.imaginary}i\")\n",
        "\n",
        "c1=ComplexNumber(4,3)\n",
        "c2=ComplexNumber(2,1)\n",
        "print(c1-c2)"
      ],
      "metadata": {
        "colab": {
          "base_uri": "https://localhost:8080/"
        },
        "id": "q8cce2O4rwuU",
        "outputId": "40189154-2a26-40ef-c369-3b5d7414febb"
      },
      "execution_count": null,
      "outputs": [
        {
          "output_type": "stream",
          "name": "stdout",
          "text": [
            "2-2i\n"
          ]
        }
      ]
    },
    {
      "cell_type": "code",
      "source": [
        "class Party:\n",
        "  def __init__(self,name,money):\n",
        "    self.name=name\n",
        "    self.money=money\n",
        "\n",
        "  def __gt__(self,other):\n",
        "    if self.money>other.money:\n",
        "      return True\n",
        "    else:\n",
        "      return False\n",
        "\n",
        "p1=Party(\"syeda\",3000)\n",
        "p2=Party(\"nafisa\",4000)\n",
        "if p1>p2:\n",
        "  print(f\"{p1.name} will pay the money\")\n",
        "else:\n",
        "  print(f\"{p2.name} will pay the mmoney\")"
      ],
      "metadata": {
        "colab": {
          "base_uri": "https://localhost:8080/"
        },
        "id": "EyX09Jeor17Z",
        "outputId": "900129aa-a605-44d0-a1a6-bcfd9ae1ef4a"
      },
      "execution_count": null,
      "outputs": [
        {
          "output_type": "stream",
          "name": "stdout",
          "text": [
            "nafisa will pay the mmoney\n"
          ]
        }
      ]
    },
    {
      "cell_type": "code",
      "source": [
        "'''method overloading'''\n",
        "class Demo:\n",
        "  def add(self,*args):\n",
        "    total=0\n",
        "    for i in args:\n",
        "      total=total+i\n",
        "      return total\n",
        "d=Demo()\n",
        "print(d.add(2,3))\n",
        "print(d.add(10,20,30))"
      ],
      "metadata": {
        "colab": {
          "base_uri": "https://localhost:8080/"
        },
        "id": "9kiF1817r8cf",
        "outputId": "3893c3b4-5f09-47a1-e479-ab0f6d2251fe"
      },
      "execution_count": null,
      "outputs": [
        {
          "output_type": "stream",
          "name": "stdout",
          "text": [
            "2\n",
            "10\n"
          ]
        }
      ]
    },
    {
      "cell_type": "code",
      "source": [
        "'''Method over riding'''\n",
        "class Animal:\n",
        "  def speak(self):\n",
        "    return \"Animal makes a sound\"\n",
        "\n",
        "class Dog(Animal):\n",
        "  def speak(self):\n",
        "    return \"woof!\"\n",
        "\n",
        "class Cat(Animal):\n",
        "  def speak(self):\n",
        "    return \"meow!\"\n",
        "\n",
        "class Cow(Animal):\n",
        "  pass\n",
        "\n",
        "  def make_animal_speak(animal):\n",
        "    print(animal.speak())\n",
        "\n",
        "dog=Dog()\n",
        "cat=Cat()\n",
        "cow=Cow()\n",
        "\n",
        "make_animal_speak(dog)\n",
        "make_animal_speak(cat)\n",
        "make_animal_speak(cow)\n"
      ],
      "metadata": {
        "colab": {
          "base_uri": "https://localhost:8080/"
        },
        "id": "3Qg1naoisHF-",
        "outputId": "0d560855-f0f6-4d6a-9449-db19d34e1be3"
      },
      "execution_count": null,
      "outputs": [
        {
          "output_type": "stream",
          "name": "stdout",
          "text": [
            "woof!\n",
            "meow!\n",
            "Animal makes a sound\n"
          ]
        }
      ]
    }
  ]
}