{
  "nbformat": 4,
  "nbformat_minor": 0,
  "metadata": {
    "colab": {
      "provenance": [],
      "authorship_tag": "ABX9TyONxVzG5aAoXo65WOVDQDjy",
      "include_colab_link": true
    },
    "kernelspec": {
      "name": "python3",
      "display_name": "Python 3"
    },
    "language_info": {
      "name": "python"
    }
  },
  "cells": [
    {
      "cell_type": "markdown",
      "metadata": {
        "id": "view-in-github",
        "colab_type": "text"
      },
      "source": [
        "<a href=\"https://colab.research.google.com/github/SaiyadaMubballigha/python/blob/main/data_structures_and_algorithms.ipynb\" target=\"_parent\"><img src=\"https://colab.research.google.com/assets/colab-badge.svg\" alt=\"Open In Colab\"/></a>"
      ]
    },
    {
      "cell_type": "code",
      "source": [
        "'''linked list'''\n",
        "class Node:\n",
        "\tdef __init__(self, data):\n",
        "\t\tself.data = data\n",
        "\t\tself.next = None\n",
        "class LinkedList:\n",
        "\tdef __init__(self):\n",
        "\t\tself.head = None\n",
        "  def insertAtBegin(self, data):\n",
        "\t\tnew_node = Node(data)\n",
        "\t\tif self.head is None:\n",
        "\t\t\tself.head = new_node\n",
        "\t\t\treturn\n",
        "\t\telse:\n",
        "\t\t\tnew_node.next = self.head\n",
        "\t\t\tself.head = new_node\n",
        "\tdef insertAtIndex(self, data, index):\n",
        "\t\tnew_node = Node(data)\n",
        "\t\tcurrent_node = self.head\n",
        "\t\tposition = 0\n",
        "\t\tif position == index:\n",
        "\t\t\tself.insertAtBegin(data)\n",
        "\t\telse:\n",
        "\t\t\twhile(current_node != None and position+1 != index):\n",
        "\t\t\t\tposition = position+1\n",
        "\t\t\t\tcurrent_node = current_node.next\n",
        "\n",
        "\t\t\tif current_node != None:\n",
        "\t\t\t\tnew_node.next = current_node.next\n",
        "\t\t\t\tcurrent_node.next = new_node\n",
        "\t\t\telse:\n",
        "\t\t\t\tprint(\"Index not present\")\n",
        "  def insertAtEnd(self, data):\n",
        "\t\tnew_node = Node(data)\n",
        "\t\tif self.head is None:\n",
        "\t\t\tself.head = new_node\n",
        "\t\t\treturn\n",
        "\n",
        "\t\tcurrent_node = self.head\n",
        "\t\twhile(current_node.next):\n",
        "\t\t\tcurrent_node = current_node.next\n",
        "\n",
        "\t\tcurrent_node.next = new_node\n",
        "\n",
        "\tdef updateNode(self, val, index):\n",
        "\t\tcurrent_node = self.head\n",
        "\t\tposition = 0\n",
        "\t\tif position == index:\n",
        "\t\t\tcurrent_node.data = val\n",
        "\t\telse:\n",
        "\t\t\twhile(current_node != None and position != index):\n",
        "\t\t\t\tposition = position+1\n",
        "\t\t\t\tcurrent_node = current_node.next\n",
        "\n",
        "\t\t\tif current_node != None:\n",
        "\t\t\t\tcurrent_node.data = val\n",
        "\t\t\telse:\n",
        "\t\t\t\tprint(\"Index not present\")\n",
        "  def remove_first_node(self):\n",
        "\t\tif(self.head == None):\n",
        "\t\t\treturn\n",
        "\n",
        "\t\tself.head = self.head.next\n",
        "\n",
        "  def remove_last_node(self):\n",
        "\n",
        "\t\tif self.head is None:\n",
        "\t\t\treturn\n",
        "\n",
        "\t\tcurrent_node = self.head\n",
        "\t\twhile(current_node.next.next):\n",
        "\t\t\tcurrent_node = current_node.next\n",
        "\n",
        "\t\tcurrent_node.next = None\n",
        "\n",
        "\tdef remove_at_index(self, index):\n",
        "\t\tif self.head == None:\n",
        "\t\t\treturn\n",
        "\n",
        "\t\tcurrent_node = self.head\n",
        "\t\tposition = 0\n",
        "\t\tif position == index:\n",
        "\t\t\tself.remove_first_node()\n",
        "\t\telse:\n",
        "\t\t\twhile(current_node != None and position+1 != index):\n",
        "\t\t\t\tposition = position+1\n",
        "\t\t\t\tcurrent_node = current_node.next\n",
        "\n",
        "\t\t\tif current_node != None:\n",
        "\t\t\t\tcurrent_node.next = current_node.next.next\n",
        "\t\t\telse:\n",
        "\t\t\t\tprint(\"Index not present\")\n",
        "\n",
        "\tdef remove_node(self, data):\n",
        "\t\tcurrent_node = self.head\n",
        "\n",
        "\t\tif current_node.data == data:\n",
        "\t\t\tself.remove_first_node()\n",
        "\t\t\treturn\n",
        "\n",
        "\t\twhile(current_node != None and current_node.next.data != data):\n",
        "\t\t\tcurrent_node = current_node.next\n",
        "\n",
        "\t\tif current_node == None:\n",
        "\t\t\treturn\n",
        "\t\telse:\n",
        "\t\t\tcurrent_node.next = current_node.next.next\n",
        "\n",
        "\tdef sizeOfLL(self):\n",
        "\t\tsize = 0\n",
        "\t\tif(self.head):\n",
        "\t\t\tcurrent_node = self.head\n",
        "\t\t\twhile(current_node):\n",
        "\t\t\t\tsize = size+1\n",
        "\t\t\t\tcurrent_node = current_node.next\n",
        "\t\t\treturn size\n",
        "\t\telse:\n",
        "\t\t\treturn 0\n",
        "\n",
        "\tdef printLL(self):\n",
        "\t\tcurrent_node = self.head\n",
        "\t\twhile(current_node):\n",
        "\t\t\tprint(current_node.data)\n",
        "\t\t\tcurrent_node = current_node.next\n",
        "\n",
        "llist = LinkedList()\n",
        "\n",
        "\n",
        "llist.insertAtEnd('a')\n",
        "llist.insertAtEnd('b')\n",
        "llist.insertAtBegin('c')\n",
        "llist.insertAtEnd('d')\n",
        "llist.insertAtIndex('g', 2)\n",
        "\n",
        "\n",
        "print(\"Node Data\")\n",
        "llist.printLL()\n",
        "\n",
        "\n",
        "print(\"\\nRemove First Node\")\n",
        "llist.remove_first_node()\n",
        "print(\"Remove Last Node\")\n",
        "llist.remove_last_node()\n",
        "print(\"Remove Node at Index 1\")\n",
        "llist.remove_at_index(1)\n",
        "\n",
        "print(\"\\nLinked list after removing a node:\")\n",
        "llist.printLL()\n",
        "\n",
        "print(\"\\nUpdate node Value\")\n",
        "llist.updateNode('z', 0)\n",
        "llist.printLL()\n",
        "\n",
        "print(\"\\nSize of linked list :\", end=\" \")\n",
        "print(llist.sizeOfLL())"
      ],
      "metadata": {
        "colab": {
          "base_uri": "https://localhost:8080/"
        },
        "id": "h9X0uTRy_ri9",
        "outputId": "f21ff3b4-a4db-4dbf-ec72-ade3eb3eaafc"
      },
      "execution_count": null,
      "outputs": [
        {
          "output_type": "stream",
          "name": "stdout",
          "text": [
            "Node Data\n",
            "c\n",
            "a\n",
            "g\n",
            "b\n",
            "d\n",
            "\n",
            "Remove First Node\n",
            "Remove Last Node\n",
            "Remove Node at Index 1\n",
            "\n",
            "Linked list after removing a node:\n",
            "a\n",
            "b\n",
            "\n",
            "Update node Value\n",
            "z\n",
            "b\n",
            "\n",
            "Size of linked list : 2\n"
          ]
        }
      ]
    },
    {
      "cell_type": "code",
      "source": [
        "'''bubble sort'''\n",
        "def bubble_sort(arr):\n",
        "    n=len(arr)\n",
        "\n",
        "    for i in range(n):\n",
        "\n",
        "        for j in range(0,n-i-1):\n",
        "            if arr[j]>arr[j+1]:\n",
        "                arr[j],arr[j+1]=arr[j+1],arr[j]\n",
        "\n",
        "my_list=[64,34,25,12,22,11,90]\n",
        "\n",
        "print(\"original list:\",my_list)\n",
        "bubble_sort(my_list)\n",
        "print(\"sorted list:\",my_list)"
      ],
      "metadata": {
        "colab": {
          "base_uri": "https://localhost:8080/"
        },
        "id": "Hphb4GuUzemV",
        "outputId": "26401f09-2add-49fd-b595-dfcc56e454e7"
      },
      "execution_count": null,
      "outputs": [
        {
          "output_type": "stream",
          "name": "stdout",
          "text": [
            "original list: [64, 34, 25, 12, 22, 11, 90]\n",
            "sorted list: [11, 12, 22, 25, 34, 64, 90]\n"
          ]
        }
      ]
    },
    {
      "cell_type": "code",
      "execution_count": null,
      "metadata": {
        "colab": {
          "base_uri": "https://localhost:8080/"
        },
        "id": "1U14eJAgt8qx",
        "outputId": "dbeef523-6d10-4911-88dd-b637f8a0987b"
      },
      "outputs": [
        {
          "output_type": "stream",
          "name": "stdout",
          "text": [
            "key not found\n",
            "key not found\n",
            "key not found\n",
            "key found at index\n",
            "key not found\n"
          ]
        }
      ],
      "source": [
        "'''linear search'''\n",
        "L1=[35,27,92,47,11]\n",
        "key=47\n",
        "for i in L1:\n",
        "  if i==key:\n",
        "    print('key found at index')\n",
        "  else:\n",
        "    print('key not found')"
      ]
    },
    {
      "cell_type": "code",
      "source": [
        "'''user list '''\n",
        "arr=input(\"enter the list of numbers seperated by spaces:\").split()\n",
        "arr=[int(x) for x in arr]\n",
        "target=int(input(\"enter the target value to search:\"))\n",
        "found=False\n",
        "for i in range(len(arr)):\n",
        "  if arr[i]==target:\n",
        "    print(f\"Target{target} found at index {i}.\")\n",
        "    found=True\n",
        "    break\n",
        "if not found:\n",
        "    print(f\"{Target}not found in the array.\")\n",
        "\n",
        "'''limitation:-takes much time to execute if the length of the list is much'''"
      ],
      "metadata": {
        "colab": {
          "base_uri": "https://localhost:8080/",
          "height": 91
        },
        "id": "MDEL5a-DvAFc",
        "outputId": "8e1fb915-688c-4965-9a77-39a0e2f8e67d"
      },
      "execution_count": null,
      "outputs": [
        {
          "output_type": "stream",
          "name": "stdout",
          "text": [
            "enter the list of numbers seperated by spaces:1 2 3 4 5 6 7 8 9\n",
            "enter the target value to search:5\n",
            "Target5 found at index 4.\n"
          ]
        },
        {
          "output_type": "execute_result",
          "data": {
            "text/plain": [
              "'limitation:-takes much time to execute if the length of the list is much'"
            ],
            "application/vnd.google.colaboratory.intrinsic+json": {
              "type": "string"
            }
          },
          "metadata": {},
          "execution_count": 2
        }
      ]
    },
    {
      "cell_type": "code",
      "source": [
        "'''binary search'''\n",
        "arr=input(\"enter the list of numbers seperated by spaces:\").split()\n",
        "arr=[int(x) for x in arr]\n",
        "target=int(input(\"enter the target value to search:\"))\n",
        "\n",
        "start,end=0,len(arr)-1\n",
        "found=False\n",
        "while start<=end:\n",
        "  mid =(start+end)//2\n",
        "  if arr[mid]==target:\n",
        "    print(f\"Target{target}found at index{mid}.\")\n",
        "    found=True\n",
        "    break\n",
        "  elif arr[mid]<target:\n",
        "      start=mid+1\n",
        "  else:\n",
        "      end=mid-1\n",
        "if not found:\n",
        "  print(f\"Target{target}not found in the array.\")"
      ],
      "metadata": {
        "colab": {
          "base_uri": "https://localhost:8080/"
        },
        "id": "W-BiLugwvMpW",
        "outputId": "2a68796b-e33c-4813-c004-4d9924945690"
      },
      "execution_count": null,
      "outputs": [
        {
          "output_type": "stream",
          "name": "stdout",
          "text": [
            "enter the list of numbers seperated by spaces:1 2 3 4 5 6 7 8 9\n",
            "enter the target value to search:4\n",
            "Target4found at index3.\n"
          ]
        }
      ]
    },
    {
      "cell_type": "code",
      "source": [
        "class stack:\n",
        "  def __init__(self):\n",
        "    self.items=[]\n",
        "  def is_empty(self):\n",
        "    return len(self.items)==0\n",
        "  def push(self,items):\n",
        "    self.items.append(items)\n",
        "  def pop(self):\n",
        "    if not self.is_empty():\n",
        "      return self.items.pop()\n",
        "    else:\n",
        "      raise IndexError(\"pop from an empty stack\")\n",
        "  def peak(self):\n",
        "    if not self.is_empty():\n",
        "      return self.items[-1]\n",
        "    else:\n",
        "      raise IndexError(\"peak from an empty stack\")\n",
        "  def size(self):\n",
        "    return len(self.items)\n",
        "stack=stack()\n",
        "print(\"Is the stack empty?\",stack.is_empty())\n",
        "stack.push(1)\n",
        "stack.push(2)\n",
        "stack.push(3)\n",
        "print(\"stack:\",stack.items)\n",
        "print('Top of the stack:',stack.peak())\n",
        "print(\"pop:\",stack.pop())\n",
        "print(\"Stack after pop:\",stack.items)\n",
        "print(\"Is the stack empty?\",stack.is_empty())\n",
        "print(\"size of the stack:\",stack.size())"
      ],
      "metadata": {
        "colab": {
          "base_uri": "https://localhost:8080/"
        },
        "id": "P-PsTXpXvkpm",
        "outputId": "fd276fd9-7572-46c1-b83c-c92fd53bfb90"
      },
      "execution_count": null,
      "outputs": [
        {
          "output_type": "stream",
          "name": "stdout",
          "text": [
            "Is the stack empty? True\n",
            "stack: [1, 2, 3]\n",
            "Top of the stack: 3\n",
            "pop: 3\n",
            "Stack after pop: [1, 2]\n",
            "Is the stack empty? False\n",
            "size of the stack: 2\n"
          ]
        }
      ]
    },
    {
      "cell_type": "code",
      "source": [
        "class Node:\n",
        "    def __init__(self,data):\n",
        "        self.data=data\n",
        "        self.next=None\n",
        "\n",
        "class Stack:\n",
        "    def __init__(self):\n",
        "        self.head=None\n",
        "    def is_empty(self):\n",
        "        return self.head is None\n",
        "    def push(self,data):\n",
        "        new_node=Node(data)\n",
        "        new_node.next=self.head\n",
        "        self.head=new_node\n",
        "\n",
        "    def pop(self):\n",
        "        if self.is_empty():\n",
        "            return None\n",
        "        popped=self.head.data\n",
        "        self.head=self.head.next\n",
        "        return popped\n",
        "    def peek(self):\n",
        "        if self.is_empty():\n",
        "            return None\n",
        "        return self.head.data\n",
        "    def display(self):\n",
        "        current=self.head\n",
        "        while current:\n",
        "            print(current.data,end='->')\n",
        "            current=current.next\n",
        "        print('None')\n",
        "\n",
        "stack=Stack()\n",
        "stack.push(1)\n",
        "stack.push(2)\n",
        "stack.push(3)\n",
        "stack.display()\n",
        "print('popped:',stack.pop())\n",
        "print('Peek:',stack.peek())\n",
        "stack.display()"
      ],
      "metadata": {
        "colab": {
          "base_uri": "https://localhost:8080/"
        },
        "id": "2fX24YywvuuH",
        "outputId": "3949c14a-e2a5-4f20-b24e-2c170b653a39"
      },
      "execution_count": null,
      "outputs": [
        {
          "output_type": "stream",
          "name": "stdout",
          "text": [
            "3->2->1->None\n",
            "popped: 3\n",
            "Peek: 2\n",
            "2->1->None\n"
          ]
        }
      ]
    },
    {
      "cell_type": "code",
      "source": [
        "class QueueList:\n",
        "    def __init__(self):\n",
        "        self.items=[]\n",
        "\n",
        "    def is_empty(self):\n",
        "        return len(self.items)==0\n",
        "\n",
        "    def enqueue(self,item):\n",
        "        self.items.append(item)\n",
        "\n",
        "    def dequeue(self):\n",
        "        if not self.is_empty():\n",
        "            return self.items.pop(0)\n",
        "        else:\n",
        "            raise IndexError('dequeue from an empty queue')\n",
        "\n",
        "    def peek(self):\n",
        "        if not self.is_empty():\n",
        "            return self.items[0]\n",
        "        else:\n",
        "            raise IndexError('peek from an empty queue')\n",
        "    def size(self):\n",
        "        return len(self.items)\n",
        "queue=QueueList()\n",
        "\n",
        "queue.enqueue(1)\n",
        "queue.enqueue(2)\n",
        "queue.enqueue(3)\n",
        "print('Front of the queue:',queue.peek())\n",
        "print('Dequeue:',queue.dequeue())\n",
        "print('Size of the queue:',queue.size())"
      ],
      "metadata": {
        "colab": {
          "base_uri": "https://localhost:8080/"
        },
        "id": "-2cHb8vhyO2j",
        "outputId": "67ffaead-de29-4db7-9659-e22ab1f65450"
      },
      "execution_count": null,
      "outputs": [
        {
          "output_type": "stream",
          "name": "stdout",
          "text": [
            "Front of the queue: 1\n",
            "Dequeue: 1\n",
            "Size of the queue: 2\n"
          ]
        }
      ]
    },
    {
      "cell_type": "code",
      "source": [
        "class Node:\n",
        "    def __init__(self,data):\n",
        "        self.data=data\n",
        "        self.next=None\n",
        "class QueueLinkedList:\n",
        "    def __init__(self):\n",
        "        self.front=None\n",
        "        self.rear=None\n",
        "\n",
        "    def is_empty(self):\n",
        "        return self.front is None\n",
        "    def enqueue(self,item):\n",
        "        new_node=Node(item)\n",
        "        if self.is_empty():\n",
        "            self.front=new_node\n",
        "            self.rear=new_node\n",
        "\n",
        "        else:\n",
        "            self.rear.next=new_node\n",
        "            self.rear=new_node\n",
        "\n",
        "    def dequeue(self):\n",
        "        if not self.is_empty():\n",
        "            dequeue_item=self.front.data\n",
        "            self.front=self.front.next\n",
        "            if self.front is None:\n",
        "                self.rear=None\n",
        "            return dequeue_item\n",
        "        else:\n",
        "            raise IndexError('dequeue from an empty queue:')\n",
        "\n",
        "    def peek(self):\n",
        "        if not self.is_empty():\n",
        "            return self.front.data\n",
        "        else:\n",
        "            raise IndexError('peak from an empty queue ')\n",
        "\n",
        "    def size(self):\n",
        "        count=0\n",
        "        current=self.front\n",
        "        while current:\n",
        "            count+=1\n",
        "            current=current.next\n",
        "        return count\n",
        "queue=QueueLinkedList()\n",
        "queue.enqueue(1)\n",
        "queue.enqueue(2)\n",
        "queue.enqueue(3)\n",
        "print('front of the queue:',queue.peek())\n",
        "print('Dequeue:',queue.dequeue())"
      ],
      "metadata": {
        "colab": {
          "base_uri": "https://localhost:8080/"
        },
        "id": "8hMSTRnkykCG",
        "outputId": "6a153c12-4a75-43a4-e46d-4559b858e7e1"
      },
      "execution_count": null,
      "outputs": [
        {
          "output_type": "stream",
          "name": "stdout",
          "text": [
            "front of the queue: 1\n",
            "Dequeue: 1\n"
          ]
        }
      ]
    },
    {
      "cell_type": "code",
      "source": [
        "'''Trees'''\n",
        "class TreeNode:\n",
        "  def __init__(self,key):\n",
        "    self.val=key\n",
        "    self.left=None\n",
        "    self.right=None\n",
        "class BST:\n",
        "  def __init__(self):\n",
        "    self.root=None\n",
        "  def insert(self,root,key):\n",
        "    if root is None:\n",
        "       return TreeNode(key)\n",
        "    else:\n",
        "      if root.val<key:\n",
        "        root.right=self.insert(root.right,key)\n",
        "      else:\n",
        "        root.left=self.insert(root.left,key)\n",
        "    return root\n",
        "  def inorder_traversal(self,root):\n",
        "    if root:\n",
        "      self.inorder_traversal(root.left)\n",
        "      print(root.val,end=\" \")\n",
        "      self.inorder_traversal(root.right)\n",
        "  def search(self,root,key):\n",
        "    if root is None or root.val==key:\n",
        "      return root\n",
        "    if root.val<key:\n",
        "      return self.search(root.right,key)\n",
        "    return self.search(root.left,key)\n",
        "bst=BST()\n",
        "bst.root=bst.insert(bst.root,30)\n",
        "bst.root=bst.insert(bst.root,20)\n",
        "bst.root=bst.insert(bst.root,40)\n",
        "bst.root=bst.insert(bst.root,70)\n",
        "bst.root=bst.insert(bst.root,60)\n",
        "bst.root=bst.insert(bst.root,10)\n",
        "print(\"Inorder traversal of the BST:\")\n",
        "bst.inorder_traversal(bst.root)\n",
        "print()\n",
        "key = 60\n",
        "result = bst.search(bst.root, key)\n",
        "if result:\n",
        "    print(f\"{key} found in the BST\")\n",
        "else:\n",
        "    print(f\"{key} not found in the BST\")\n"
      ],
      "metadata": {
        "id": "TN-Dxy537CoI",
        "outputId": "f79773fe-d9b7-4b9e-e94f-b8901df91e6d",
        "colab": {
          "base_uri": "https://localhost:8080/"
        }
      },
      "execution_count": null,
      "outputs": [
        {
          "output_type": "stream",
          "name": "stdout",
          "text": [
            "Inorder traversal of the BST:\n",
            "10 20 30 40 60 70 \n",
            "60 found in the BST\n"
          ]
        }
      ]
    }
  ]
}