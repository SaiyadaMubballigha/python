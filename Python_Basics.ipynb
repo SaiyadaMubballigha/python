{
  "nbformat": 4,
  "nbformat_minor": 0,
  "metadata": {
    "colab": {
      "provenance": [],
      "authorship_tag": "ABX9TyP9o1or2ZPZ/YecDJ289INk",
      "include_colab_link": true
    },
    "kernelspec": {
      "name": "python3",
      "display_name": "Python 3"
    },
    "language_info": {
      "name": "python"
    }
  },
  "cells": [
    {
      "cell_type": "markdown",
      "metadata": {
        "id": "view-in-github",
        "colab_type": "text"
      },
      "source": [
        "<a href=\"https://colab.research.google.com/github/SaiyadaMubballigha/python/blob/main/Python_Basics.ipynb\" target=\"_parent\"><img src=\"https://colab.research.google.com/assets/colab-badge.svg\" alt=\"Open In Colab\"/></a>"
      ]
    },
    {
      "cell_type": "code",
      "execution_count": 1,
      "metadata": {
        "id": "XvkdDsHJCckZ",
        "colab": {
          "base_uri": "https://localhost:8080/"
        },
        "outputId": "7cd122c2-dc8e-4679-a858-caac1887e27e"
      },
      "outputs": [
        {
          "output_type": "stream",
          "name": "stdout",
          "text": [
            "['abc', 1, 2, 7, True, 2.5, 'bike']\n",
            "['abc', 1, 2, 7, True, 'pens', 2.5, 'car']\n",
            "['abc', 2, 7, True, 'pens', 2.5, 'car']\n",
            "['abc', 2, 7, True, 'pens', 'car']\n",
            "['abc', 2, 7, True, 'pens']\n",
            "{'books': '10', 'notes': '5', 'pencils': '3', 'pens': '8', 'eraser': '6', 'files': 2}\n",
            "dict_values(['10', '5', '3', '8', '6', 2])\n",
            "dict_keys(['books', 'notes', 'pencils', 'pens', 'eraser', 'files'])\n"
          ]
        }
      ],
      "source": [
        "l=[\"abc\",1,2,7,True,2.5]\n",
        "l.append(\"bike\")\n",
        "print(l)\n",
        "\n",
        "l[-1]=\"car\"\n",
        "l.insert(-2,\"pens\")\n",
        "print(l)\n",
        "\n",
        "l.remove(True)\n",
        "print(l)\n",
        "\n",
        "l.remove(2.5)\n",
        "print(l)\n",
        "\n",
        "del l[-1]\n",
        "print(l)\n",
        "\n",
        "this_dict={\"books\":\"10\",\"notes\":\"5\",\"pencils\":\"3\",\"pens\":\"8\",\"eraser\":\"6\",\"files\":2}\n",
        "print(this_dict)\n",
        "\n",
        "this_dict={\"books\":\"10\",\"notes\":\"5\",\"pencils\":\"3\",\"pens\":\"8\",\"eraser\":\"6\",\"files\":2}\n",
        "this_dict.values()\n",
        "print(this_dict.values())\n",
        "this_dict.keys()\n",
        "print(this_dict.keys())"
      ]
    },
    {
      "cell_type": "code",
      "source": [
        "a=-20\n",
        "a=~20\n",
        "print(-a)"
      ],
      "metadata": {
        "colab": {
          "base_uri": "https://localhost:8080/"
        },
        "id": "OOTqr-o-sWrT",
        "outputId": "7325e2fd-647d-4d95-d683-3d5d2b9c32bc"
      },
      "execution_count": 2,
      "outputs": [
        {
          "output_type": "stream",
          "name": "stdout",
          "text": [
            "21\n"
          ]
        }
      ]
    },
    {
      "cell_type": "code",
      "source": [
        "a=20\n",
        "a=~20\n",
        "print(a)"
      ],
      "metadata": {
        "colab": {
          "base_uri": "https://localhost:8080/"
        },
        "id": "k8xHcjB6setY",
        "outputId": "598f9872-d51e-45e8-ba61-c0184900822a"
      },
      "execution_count": 3,
      "outputs": [
        {
          "output_type": "stream",
          "name": "stdout",
          "text": [
            "-21\n"
          ]
        }
      ]
    },
    {
      "cell_type": "code",
      "source": [
        "a=5\n",
        "b=7\n",
        "a=a^b\n",
        "b=a^b\n",
        "a=a^b\n",
        "print(a)\n",
        "print(b)"
      ],
      "metadata": {
        "colab": {
          "base_uri": "https://localhost:8080/"
        },
        "id": "KlGleMMMskhN",
        "outputId": "d5b6346a-a962-4a67-9d84-cfe2740450e5"
      },
      "execution_count": 4,
      "outputs": [
        {
          "output_type": "stream",
          "name": "stdout",
          "text": [
            "7\n",
            "5\n"
          ]
        }
      ]
    },
    {
      "cell_type": "code",
      "source": [
        "a=20\n",
        "if(a&1==0):\n",
        "  print(\"even\")\n",
        "else:\n",
        "  print(\"odd\")"
      ],
      "metadata": {
        "colab": {
          "base_uri": "https://localhost:8080/"
        },
        "id": "BXCA88KZspqY",
        "outputId": "0d6875d9-94e1-404d-b701-b77890e94e61"
      },
      "execution_count": 5,
      "outputs": [
        {
          "output_type": "stream",
          "name": "stdout",
          "text": [
            "even\n"
          ]
        }
      ]
    },
    {
      "cell_type": "code",
      "source": [
        "a=5\n",
        "if(a&1==1):\n",
        "  print(\"odd\")\n",
        "else:\n",
        "  print(\"even\")"
      ],
      "metadata": {
        "colab": {
          "base_uri": "https://localhost:8080/"
        },
        "id": "jLTBx47isvSq",
        "outputId": "8f89fd4a-3ac5-42e0-93b7-812e2deef471"
      },
      "execution_count": 6,
      "outputs": [
        {
          "output_type": "stream",
          "name": "stdout",
          "text": [
            "odd\n"
          ]
        }
      ]
    },
    {
      "cell_type": "code",
      "source": [
        "n=int(input())\n",
        "sum=0\n",
        "for i in range(1,n+1):\n",
        "  sum+=i\n",
        "print(\"sum of first\",n,\"natural numbers:\",sum)"
      ],
      "metadata": {
        "colab": {
          "base_uri": "https://localhost:8080/"
        },
        "id": "ZKlTeCJas1E6",
        "outputId": "49bef701-f27e-4eba-d58c-bd2970afb542"
      },
      "execution_count": 7,
      "outputs": [
        {
          "output_type": "stream",
          "name": "stdout",
          "text": [
            "3\n",
            "sum of first 3 natural numbers: 6\n"
          ]
        }
      ]
    },
    {
      "cell_type": "code",
      "source": [
        "n=int(input())\n",
        "rev=0\n",
        "while n>0:\n",
        "  digit=n%10\n",
        "  rev=rev*10+digit\n",
        "  n=n//10\n",
        "print(\"reverse of number\",rev)"
      ],
      "metadata": {
        "colab": {
          "base_uri": "https://localhost:8080/"
        },
        "id": "laI_POmjs-BD",
        "outputId": "37239445-eeed-4717-c7e6-c489184ac509"
      },
      "execution_count": 8,
      "outputs": [
        {
          "output_type": "stream",
          "name": "stdout",
          "text": [
            "12\n",
            "reverse of number 21\n"
          ]
        }
      ]
    },
    {
      "cell_type": "code",
      "source": [
        "s=input(\"enter the string:\")[::-1]\n",
        "print(s)"
      ],
      "metadata": {
        "colab": {
          "base_uri": "https://localhost:8080/"
        },
        "id": "l636FEuKtFPI",
        "outputId": "d8264e8e-7a71-46dc-d835-1af20168803a"
      },
      "execution_count": 10,
      "outputs": [
        {
          "output_type": "stream",
          "name": "stdout",
          "text": [
            "enter the string:syeda\n",
            "adeys\n"
          ]
        }
      ]
    },
    {
      "cell_type": "code",
      "source": [
        "n=int(input())\n",
        "a,b=0,1\n",
        "for i in range(n):\n",
        "  print(a, end=\" \")\n",
        "  a,b=b,a+b"
      ],
      "metadata": {
        "colab": {
          "base_uri": "https://localhost:8080/"
        },
        "id": "YE-ITVostjrH",
        "outputId": "3d9ab4f4-3fd5-4f40-b31d-5fd3f02e377f"
      },
      "execution_count": 11,
      "outputs": [
        {
          "output_type": "stream",
          "name": "stdout",
          "text": [
            "12\n",
            "0 1 1 2 3 5 8 13 21 34 55 89 "
          ]
        }
      ]
    },
    {
      "cell_type": "code",
      "source": [
        "n=int(input())\n",
        "fact=1\n",
        "for i in range(1,n+1):\n",
        "  fact*=i\n",
        "print(\"factorial of\",n,\"is:\",fact)"
      ],
      "metadata": {
        "colab": {
          "base_uri": "https://localhost:8080/"
        },
        "id": "NeVDoUsQty-1",
        "outputId": "f8342482-3e31-44c7-fa13-1c1a30ea4d7d"
      },
      "execution_count": 12,
      "outputs": [
        {
          "output_type": "stream",
          "name": "stdout",
          "text": [
            "5\n",
            "factorial of 5 is: 120\n"
          ]
        }
      ]
    },
    {
      "cell_type": "code",
      "source": [
        "l=[12,7,10,15,8]\n",
        "min=15\n",
        "for num in l:\n",
        "   if(num<min):\n",
        "    min=num\n",
        "print(min)"
      ],
      "metadata": {
        "colab": {
          "base_uri": "https://localhost:8080/"
        },
        "id": "DsU3RyI0t5LC",
        "outputId": "b2faf4a6-b65c-4be4-d6f0-bec7fa1b2ff6"
      },
      "execution_count": 13,
      "outputs": [
        {
          "output_type": "stream",
          "name": "stdout",
          "text": [
            "7\n"
          ]
        }
      ]
    },
    {
      "cell_type": "code",
      "source": [
        "def add_numbers(a,b):\n",
        "  return a+b\n",
        "\n",
        "result=add_numbers(3,5)\n",
        "print(result)"
      ],
      "metadata": {
        "colab": {
          "base_uri": "https://localhost:8080/"
        },
        "id": "6w0oRMaRuAE-",
        "outputId": "0aa02f58-b29d-40a3-ab1f-e20a65a8054a"
      },
      "execution_count": 14,
      "outputs": [
        {
          "output_type": "stream",
          "name": "stdout",
          "text": [
            "8\n"
          ]
        }
      ]
    },
    {
      "cell_type": "code",
      "source": [
        "def greet(name=\"World\"):\n",
        "  print(\"Hello,\"+name+\"!\")\n",
        "greet()\n",
        "greet(\"syeda\")"
      ],
      "metadata": {
        "colab": {
          "base_uri": "https://localhost:8080/"
        },
        "id": "xpak3yYGuFWo",
        "outputId": "e8aeaedd-a98c-468c-c83d-3a1ecb0debd3"
      },
      "execution_count": 15,
      "outputs": [
        {
          "output_type": "stream",
          "name": "stdout",
          "text": [
            "Hello,World!\n",
            "Hello,syeda!\n"
          ]
        }
      ]
    },
    {
      "cell_type": "code",
      "source": [
        "def greet(name,greeting):\n",
        "  print(greeting+\",\"+name+\"!\")\n",
        "greet(greeting=\"Hello\",name=\"syeda\")"
      ],
      "metadata": {
        "colab": {
          "base_uri": "https://localhost:8080/"
        },
        "id": "6gFCfgIzuMcq",
        "outputId": "3de3424f-63e7-4106-b873-ca9785816ca2"
      },
      "execution_count": 16,
      "outputs": [
        {
          "output_type": "stream",
          "name": "stdout",
          "text": [
            "Hello,syeda!\n"
          ]
        }
      ]
    },
    {
      "cell_type": "code",
      "source": [
        "L=[1,2,3]\n",
        "print(L)\n",
        "print(*L)"
      ],
      "metadata": {
        "colab": {
          "base_uri": "https://localhost:8080/"
        },
        "id": "GQFZT_BIuTGt",
        "outputId": "9ce9aaf4-a238-4a5c-bcdf-c50a6d70ab10"
      },
      "execution_count": 17,
      "outputs": [
        {
          "output_type": "stream",
          "name": "stdout",
          "text": [
            "[1, 2, 3]\n",
            "1 2 3\n"
          ]
        }
      ]
    },
    {
      "cell_type": "code",
      "source": [
        "def multiply(*args):\n",
        "  result=1\n",
        "  for num in args:\n",
        "    result*=num\n",
        "  return result\n",
        "print(multiply(2,3,4,5,6))"
      ],
      "metadata": {
        "colab": {
          "base_uri": "https://localhost:8080/"
        },
        "id": "evbwF28XubBd",
        "outputId": "86c819a1-2c28-48f9-d860-a2c031309f3d"
      },
      "execution_count": 18,
      "outputs": [
        {
          "output_type": "stream",
          "name": "stdout",
          "text": [
            "720\n"
          ]
        }
      ]
    },
    {
      "cell_type": "code",
      "source": [
        "def student_info(**kwargs):\n",
        "  for key,value in kwargs.items():\n",
        "    print(key+\":\"+value)\n",
        "student_info(name=\"Syeda\",age=\"20\",clg=\"BITM\")"
      ],
      "metadata": {
        "colab": {
          "base_uri": "https://localhost:8080/"
        },
        "id": "wxKhiKyhugZh",
        "outputId": "33d7567a-d23e-49a4-8b55-46ee39889473"
      },
      "execution_count": 20,
      "outputs": [
        {
          "output_type": "stream",
          "name": "stdout",
          "text": [
            "name:Syeda\n",
            "age:20\n",
            "clg:BITM\n"
          ]
        }
      ]
    },
    {
      "cell_type": "code",
      "source": [
        "num=407\n",
        "if num==1:\n",
        "  print(num,\"is not a prime number\")\n",
        "elif num>1:\n",
        "  for i in range(2,num):\n",
        "    if (num%i)==0:\n",
        "      print(num,\"is not a prime number\")\n",
        "      print(i,\"times\",num//i,\"is\",num)\n",
        "      break\n",
        "  else:\n",
        "      print(num,\"is a prime number\")"
      ],
      "metadata": {
        "colab": {
          "base_uri": "https://localhost:8080/"
        },
        "id": "pUkI9WbvukzL",
        "outputId": "a4b3acca-8f52-4bc5-cbd4-b24949c44233"
      },
      "execution_count": 21,
      "outputs": [
        {
          "output_type": "stream",
          "name": "stdout",
          "text": [
            "407 is not a prime number\n",
            "11 times 37 is 407\n"
          ]
        }
      ]
    },
    {
      "cell_type": "code",
      "source": [
        "def factorial(n):\n",
        "  if(n==1):\n",
        "    return(1)\n",
        "  else:\n",
        "    return(n*factorial(n-1))\n",
        "num=8\n",
        "result=factorial(num)\n",
        "print(\"factorial of\",num,\"is\",result)"
      ],
      "metadata": {
        "colab": {
          "base_uri": "https://localhost:8080/"
        },
        "id": "jjH3eD2hutGj",
        "outputId": "0db106d7-1928-4349-b7be-6b7d9924d974"
      },
      "execution_count": 23,
      "outputs": [
        {
          "output_type": "stream",
          "name": "stdout",
          "text": [
            "factorial of 8 is 40320\n"
          ]
        }
      ]
    }
  ]
}