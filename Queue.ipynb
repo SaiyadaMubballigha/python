{
  "nbformat": 4,
  "nbformat_minor": 0,
  "metadata": {
    "colab": {
      "provenance": [],
      "authorship_tag": "ABX9TyP+I0EePi9ehtzMp8vKfqYR",
      "include_colab_link": true
    },
    "kernelspec": {
      "name": "python3",
      "display_name": "Python 3"
    },
    "language_info": {
      "name": "python"
    }
  },
  "cells": [
    {
      "cell_type": "markdown",
      "metadata": {
        "id": "view-in-github",
        "colab_type": "text"
      },
      "source": [
        "<a href=\"https://colab.research.google.com/github/SaiyadaMubballigha/python/blob/main/Queue.ipynb\" target=\"_parent\"><img src=\"https://colab.research.google.com/assets/colab-badge.svg\" alt=\"Open In Colab\"/></a>"
      ]
    },
    {
      "cell_type": "code",
      "execution_count": 1,
      "metadata": {
        "id": "HMdIQXhLeWfl"
      },
      "outputs": [],
      "source": [
        "class Node:\n",
        "  def __init__(self,data):\n",
        "    self.data=data\n",
        "    self.next=None\n",
        "  def queueLinkedList():\n",
        "    def __init__(self):\n",
        "      self.front=None\n",
        "      self.rear=None\n",
        "  def is_empty(self):\n",
        "    return self.front is None\n",
        "  def enqueue(self,item):\n",
        "    new_node=Node(item)\n",
        "    if self.is_empty():\n",
        "      self.front=new_node\n",
        "      self.rear=new_node\n",
        "    else:\n",
        "      self.rear.next=new_node\n",
        "      self.rear=new_node\n",
        "  def dequeue(self):\n",
        "    if not self.is_empty():\n",
        "      dequeued_item=self.front.data\n",
        "      self.front=self.front.next\n",
        "      if self.front is None:\n",
        "        self.rear=None\n",
        "        return dequeued_item\n",
        "      else:\n",
        "        raise IndexError(\"dequeue from an empty queue\")\n",
        "  def peak(self):\n",
        "    if not self.is_empty():\n",
        "      return self.front.data\n",
        "    else:\n",
        "      raise IndexError(\"peak from an empty queue\")\n",
        "  def size(self):\n",
        "    count=0\n",
        "    current=self.front\n",
        "    while current:\n",
        "      count+=1\n",
        "      current=current.next\n",
        "      return count\n"
      ]
    }
  ]
}