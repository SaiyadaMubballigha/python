{
  "cells": [
    {
      "cell_type": "markdown",
      "metadata": {
        "id": "view-in-github",
        "colab_type": "text"
      },
      "source": [
        "<a href=\"https://colab.research.google.com/github/SaiyadaMubballigha/python/blob/main/Internship_programs.ipynb\" target=\"_parent\"><img src=\"https://colab.research.google.com/assets/colab-badge.svg\" alt=\"Open In Colab\"/></a>"
      ]
    },
    {
      "cell_type": "code",
      "execution_count": null,
      "metadata": {
        "colab": {
          "base_uri": "https://localhost:8080/"
        },
        "id": "icjWjpI2mT4S",
        "outputId": "bc22eae7-c941-45cf-d8ab-bd3f4ff8f758"
      },
      "outputs": [
        {
          "name": "stdout",
          "output_type": "stream",
          "text": [
            "hello,syeda!\n"
          ]
        }
      ],
      "source": [
        "def greet(name,greeting):\n",
        "    print(greeting + \",\" + name + \"!\")\n",
        "greet(greeting=\"hello\",name=\"syeda\")\n",
        "\n"
      ]
    },
    {
      "cell_type": "code",
      "execution_count": null,
      "metadata": {
        "colab": {
          "base_uri": "https://localhost:8080/"
        },
        "id": "rzRsb--bmnV6",
        "outputId": "8402c768-9a9c-4f10-eb6d-819db6370654"
      },
      "outputs": [
        {
          "name": "stdout",
          "output_type": "stream",
          "text": [
            "[1, 2, 3, 4]\n",
            "1 2 3 4\n"
          ]
        }
      ],
      "source": [
        "l=[1,2,3,4]\n",
        "print(l)\n",
        "print(*l)\n",
        "\n"
      ]
    },
    {
      "cell_type": "code",
      "execution_count": null,
      "metadata": {
        "colab": {
          "base_uri": "https://localhost:8080/"
        },
        "id": "kt5VuZ7emwd_",
        "outputId": "65ded456-77e7-4714-f620-4481fc2e2a37"
      },
      "outputs": [
        {
          "name": "stdout",
          "output_type": "stream",
          "text": [
            "24\n"
          ]
        }
      ],
      "source": [
        "def multiply(*args):\n",
        "    result=1\n",
        "    for num in args:\n",
        "        result*=num\n",
        "    return result\n",
        "print(multiply(2,3,4))\n",
        "\n"
      ]
    },
    {
      "cell_type": "code",
      "execution_count": null,
      "metadata": {
        "colab": {
          "base_uri": "https://localhost:8080/"
        },
        "id": "6l2WOifmm-2p",
        "outputId": "0b57a46f-6961-42bb-e600-ecbff8facb35"
      },
      "outputs": [
        {
          "name": "stdout",
          "output_type": "stream",
          "text": [
            "name:syeda\n",
            "age:20\n",
            "clg:bitm\n"
          ]
        }
      ],
      "source": [
        "def student_info(**kwargs):\n",
        "    for key,value in kwargs.items():\n",
        "        print(key + \":\" + value)\n",
        "student_info(name=\"syeda\",age=\"20\",clg=\"bitm\")\n",
        "\n",
        "\n"
      ]
    },
    {
      "cell_type": "code",
      "execution_count": null,
      "metadata": {
        "colab": {
          "base_uri": "https://localhost:8080/"
        },
        "id": "D5heXdKonRT_",
        "outputId": "57ecd404-072d-4add-81fe-4ced198bccc1"
      },
      "outputs": [
        {
          "name": "stdout",
          "output_type": "stream",
          "text": [
            "enter the weight of a4\n",
            "enter the weight of b7\n",
            "2\n"
          ]
        }
      ],
      "source": [
        "a=int(input(\"enter the weight of a\"))\n",
        "b=int(input(\"enter the weight of b\"))\n",
        "years=0\n",
        "while(a<=b):\n",
        "    a=a*3\n",
        "    b=b*2\n",
        "    years=years+1\n",
        "print(years)\n",
        "\n"
      ]
    },
    {
      "cell_type": "code",
      "execution_count": null,
      "metadata": {
        "id": "-ZIq3P2DpAv6"
      },
      "outputs": [],
      "source": [
        "x=int(input(\"enter the no of steps\"))\n",
        "if(x<5):\n",
        "    print(\"1\")\n",
        "elif(x%5==0):\n",
        "    print(x/5)\n",
        "else:\n",
        "    print(x//5+1)"
      ]
    },
    {
      "cell_type": "code",
      "execution_count": null,
      "metadata": {
        "colab": {
          "base_uri": "https://localhost:8080/"
        },
        "id": "SxeZx_Xc5vYD",
        "outputId": "7c4c5943-3011-439b-9b25-1229d544dcfa"
      },
      "outputs": [
        {
          "name": "stdout",
          "output_type": "stream",
          "text": [
            "enter a number:153\n",
            "True\n"
          ]
        }
      ],
      "source": [
        "def is_armstrong(num):\n",
        "    original_num=num\n",
        "    armstrong_sum=0\n",
        "    num_digits=len(str(num))\n",
        "    while num>0:\n",
        "        digit=num%10\n",
        "        armstrong_sum+=digit**num_digits\n",
        "        num//=10\n",
        "    return original_num==armstrong_sum\n",
        "num=int(input('enter a number:'))\n",
        "n=is_armstrong(num)\n",
        "print(n)"
      ]
    },
    {
      "cell_type": "code",
      "execution_count": null,
      "metadata": {
        "colab": {
          "base_uri": "https://localhost:8080/"
        },
        "id": "zDAZQQfveFLZ",
        "outputId": "74c22873-1462-4cfd-82cd-a05a4a154e44"
      },
      "outputs": [
        {
          "name": "stdout",
          "output_type": "stream",
          "text": [
            "Enter student's roll number: 105\n",
            "Student Name: Santhosh\n",
            "Roll Number: 105\n",
            "Marks: 80\n",
            "Result: Pass\n"
          ]
        }
      ],
      "source": [
        "student_data = {\n",
        "    \"101\": {\"name\": \"Surya\", \"marks\": 75},\n",
        "    \"102\": {\"name\": \"Anu\", \"marks\": 50},\n",
        "    \"103\": {\"name\": \"Vipin\", \"marks\": 90},\n",
        "    \"104\": {\"name\": \"Sara\", \"marks\": 35},\n",
        "    \"105\": {\"name\": \"Santhosh\", \"marks\": 80}\n",
        "}\n",
        "\n",
        "# Function to check if a user exists and print their details\n",
        "def check_user(roll_number):\n",
        "    if roll_number in student_data:\n",
        "        student = student_data[roll_number]\n",
        "        name = student[\"name\"]\n",
        "        marks = student[\"marks\"]\n",
        "        result = \"Pass\" if marks >= 50 else \"Fail\"\n",
        "        print(f\"Student Name: {name}\")\n",
        "        print(f\"Roll Number: {roll_number}\")\n",
        "        print(f\"Marks: {marks}\")\n",
        "        print(f\"Result: {result}\")\n",
        "    else:\n",
        "        print(\"Student not found!\")\n",
        "\n",
        "# Example usage\n",
        "roll_number = input(\"Enter student's roll number: \")\n",
        "check_user(roll_number)\n",
        "\n",
        "\n"
      ]
    },
    {
      "cell_type": "code",
      "execution_count": null,
      "metadata": {
        "colab": {
          "base_uri": "https://localhost:8080/"
        },
        "id": "old_pJ1Hes1z",
        "outputId": "41393753-e07f-4838-c874-5799192b802b"
      },
      "outputs": [
        {
          "name": "stdout",
          "output_type": "stream",
          "text": [
            "390\n",
            "classic350\n"
          ]
        }
      ],
      "source": [
        "class Bike:\n",
        "  pass\n",
        "\n",
        "Duke=Bike()\n",
        "Duke.name=\"RC390\"\n",
        "Duke.cc=390\n",
        "print(Duke.cc)\n",
        "\n",
        "RE=Bike()\n",
        "RE.name=\"classic350\"\n",
        "RE.CC=350\n",
        "print(RE.name)"
      ]
    },
    {
      "cell_type": "code",
      "execution_count": null,
      "metadata": {
        "colab": {
          "base_uri": "https://localhost:8080/"
        },
        "id": "5kpblUpgjbTU",
        "outputId": "37184b8f-95de-42cb-eba0-9afc01caf860"
      },
      "outputs": [
        {
          "name": "stdout",
          "output_type": "stream",
          "text": [
            "RC390\n",
            "Classic350\n"
          ]
        }
      ],
      "source": [
        "from os import name\n",
        "class Bike:\n",
        "   def __init__(self,name,cc):\n",
        "     self.bike_name=name\n",
        "     self.bike_cc=cc\n",
        "\n",
        "Duke=Bike(\"RC390\",390)\n",
        "RE=Bike(\"Classic350\",350)\n",
        "\n",
        "print(Duke.bike_name)\n",
        "print(RE.bike_name)"
      ]
    },
    {
      "cell_type": "code",
      "execution_count": null,
      "metadata": {
        "colab": {
          "base_uri": "https://localhost:8080/"
        },
        "id": "3WjQ829klfMw",
        "outputId": "d951d12b-9e61-4965-fc13-b7dd321a9587"
      },
      "outputs": [
        {
          "name": "stdout",
          "output_type": "stream",
          "text": [
            "RC390\n",
            "Classic350\n",
            "RC390is loud\n"
          ]
        }
      ],
      "source": [
        "class Bike:\n",
        "   def __init__(self,name,cc):\n",
        "     self.bike_name=name\n",
        "     self.bike_cc=cc\n",
        "   def sound(self):\n",
        "     print(f\"{self.bike_name}is loud\")\n",
        "\n",
        "Duke=Bike(\"RC390\",390)\n",
        "RE=Bike(\"Classic350\",350)\n",
        "\n",
        "print(Duke.bike_name)\n",
        "print(RE.bike_name)\n",
        "Duke.sound()"
      ]
    },
    {
      "cell_type": "code",
      "execution_count": null,
      "metadata": {
        "colab": {
          "base_uri": "https://localhost:8080/"
        },
        "id": "Uog95Wztm_CZ",
        "outputId": "bb6a222d-407d-4c1d-c3d5-462dd628e392"
      },
      "outputs": [
        {
          "name": "stdout",
          "output_type": "stream",
          "text": [
            "beagle\n",
            "brown\n",
            "persian\n",
            "white\n",
            "beagleis loud\n"
          ]
        }
      ],
      "source": [
        "class Animal:\n",
        "  def __init__(self,name,colour):\n",
        "    self.animal_name=name\n",
        "    self.animal_colour=colour\n",
        "\n",
        "  def Sound(self):\n",
        "    print(f\"{self.animal_name}is loud\")\n",
        "\n",
        "Dog=Animal(\"beagle\",\"brown\")\n",
        "Cat=Animal(\"persian\",\"white\")\n",
        "\n",
        "print(Dog.animal_name)\n",
        "print(Dog.animal_colour)\n",
        "print(Cat.animal_name)\n",
        "print(Cat.animal_colour)\n",
        "Dog.Sound()\n"
      ]
    },
    {
      "cell_type": "code",
      "execution_count": null,
      "metadata": {
        "colab": {
          "base_uri": "https://localhost:8080/"
        },
        "id": "bmFFjs6VqGBd",
        "outputId": "4cbd18d2-da20-4539-f40f-202bea4ddfbe"
      },
      "outputs": [
        {
          "name": "stdout",
          "output_type": "stream",
          "text": [
            "enter the name of studentsyeda\n",
            "enter the roll-number of the student45\n",
            "enter the marks of student20\n",
            "fail\n"
          ]
        }
      ],
      "source": [
        "class Student_date:\n",
        "  def __init__(self,name,marks,roll_number):\n",
        "    self.student_name=name\n",
        "    self.student_marks=marks\n",
        "    self.student_roll_number=roll_number\n",
        "\n",
        "name=input(\"enter the name of student\")\n",
        "roll_number=int(input(\"enter the roll-number of the student\"))\n",
        "marks=int(input(\"enter the marks of student\"))\n",
        "if(marks>=35 and marks<=50):\n",
        "     print(\"pass\")\n",
        "else:\n",
        "     print(\"fail\")\n",
        "\n",
        "\n"
      ]
    },
    {
      "cell_type": "code",
      "execution_count": null,
      "metadata": {
        "colab": {
          "base_uri": "https://localhost:8080/"
        },
        "id": "L6i11mwrstwU",
        "outputId": "bc1755d2-8b47-44c9-a450-5007679aa940"
      },
      "outputs": [
        {
          "name": "stdout",
          "output_type": "stream",
          "text": [
            "beagle\n",
            "brown\n",
            "4\n",
            "whale\n",
            "blue\n",
            "0\n",
            "land animal\n",
            "water animal\n"
          ]
        }
      ],
      "source": [
        "class Animal:\n",
        "  def __init__(self,name,colour,leg):\n",
        "    self.animal_name=name\n",
        "    self.animal_colour=colour\n",
        "    self.animal_legs=leg\n",
        "\n",
        "  def category(self):\n",
        "    if self.animal_legs > 0:\n",
        "      print(\"land animal\")\n",
        "    else:\n",
        "      print(\"water animal\")\n",
        "\n",
        "Dog=Animal(\"beagle\",\"brown\",4)\n",
        "Fish=Animal(\"whale\",\"blue\",0)\n",
        "\n",
        "print(Dog.animal_name)\n",
        "print(Dog.animal_colour)\n",
        "print(Dog.animal_legs)\n",
        "print(Fish.animal_name)\n",
        "print(Fish.animal_colour)\n",
        "print(Fish.animal_legs)\n",
        "\n",
        "Dog.category()\n",
        "Fish.category()\n",
        "\n",
        "\n",
        "\n",
        "\n"
      ]
    },
    {
      "cell_type": "code",
      "execution_count": null,
      "metadata": {
        "colab": {
          "base_uri": "https://localhost:8080/"
        },
        "id": "ZVGheqngmk8-",
        "outputId": "be3b20b1-7127-4ca0-a56b-d920ed44f015"
      },
      "outputs": [
        {
          "name": "stdout",
          "output_type": "stream",
          "text": [
            "she playsgames,and she likesbiryani\n",
            "language she speakshindi\n"
          ]
        }
      ],
      "source": [
        "class Human:\n",
        "  def __init__(self,hobby,food):\n",
        "    self.fav_hobby=hobby\n",
        "    self.fav_food=food\n",
        "\n",
        "  def display_info(self):\n",
        "    print(f\"she plays{self.fav_hobby},and she likes{self.fav_food}\")\n",
        "\n",
        "class syeda(Human):\n",
        "  def __init__(self,hobby,food,language):\n",
        "    super().__init__(hobby,food)\n",
        "    self.fav_language=language\n",
        "\n",
        "  def display_info(self):\n",
        "    super().display_info()\n",
        "    print(f\"language she speaks{self.fav_language}\")\n",
        "\n",
        "user = syeda(\"games\",\"biryani\",\"hindi\")\n",
        "\n",
        "user.display_info()"
      ]
    },
    {
      "cell_type": "code",
      "execution_count": null,
      "metadata": {
        "colab": {
          "background_save": true,
          "base_uri": "https://localhost:8080/",
          "height": 211
        },
        "id": "sIYAU1LctPzt",
        "outputId": "c87e2df3-e72c-4808-fb5b-dede7dc6bf94"
      },
      "outputs": [
        {
          "ename": "NameError",
          "evalue": "name 'AbstractPlant' is not defined",
          "output_type": "error",
          "traceback": [
            "\u001b[0;31m---------------------------------------------------------------------------\u001b[0m",
            "\u001b[0;31mNameError\u001b[0m                                 Traceback (most recent call last)",
            "\u001b[0;32m<ipython-input-2-8f8bd9bbc3c0>\u001b[0m in \u001b[0;36m<cell line: 1>\u001b[0;34m()\u001b[0m\n\u001b[0;32m----> 1\u001b[0;31m \u001b[0;32mclass\u001b[0m \u001b[0mLilly\u001b[0m\u001b[0;34m(\u001b[0m\u001b[0mAbstractPlant\u001b[0m\u001b[0;34m)\u001b[0m\u001b[0;34m:\u001b[0m\u001b[0;34m\u001b[0m\u001b[0;34m\u001b[0m\u001b[0m\n\u001b[0m\u001b[1;32m      2\u001b[0m   \u001b[0;32mdef\u001b[0m \u001b[0mdisplay_details\u001b[0m\u001b[0;34m(\u001b[0m\u001b[0mself\u001b[0m\u001b[0;34m)\u001b[0m\u001b[0;34m:\u001b[0m\u001b[0;34m\u001b[0m\u001b[0;34m\u001b[0m\u001b[0m\n\u001b[1;32m      3\u001b[0m     \u001b[0mprint\u001b[0m\u001b[0;34m(\u001b[0m\u001b[0;34m\"Lilly details\"\u001b[0m\u001b[0;34m)\u001b[0m\u001b[0;34m\u001b[0m\u001b[0;34m\u001b[0m\u001b[0m\n\u001b[1;32m      4\u001b[0m     \u001b[0mprint\u001b[0m\u001b[0;34m(\u001b[0m\u001b[0;34m\"colour:\"\u001b[0m\u001b[0;34m,\u001b[0m\u001b[0;34m\"self.colour\"\u001b[0m\u001b[0;34m)\u001b[0m\u001b[0;34m\u001b[0m\u001b[0;34m\u001b[0m\u001b[0m\n\u001b[1;32m      5\u001b[0m     \u001b[0mprint\u001b[0m\u001b[0;34m(\u001b[0m\u001b[0;34m\"shape_leaves\"\u001b[0m\u001b[0;34m,\u001b[0m\u001b[0;34m\"self.shape_leaves\"\u001b[0m\u001b[0;34m)\u001b[0m\u001b[0;34m\u001b[0m\u001b[0;34m\u001b[0m\u001b[0m\n",
            "\u001b[0;31mNameError\u001b[0m: name 'AbstractPlant' is not defined"
          ]
        }
      ],
      "source": [
        "class Lilly(AbstractPlant):\n",
        "  def display_details(self):\n",
        "    print(\"Lilly details\")\n",
        "    print(\"colour:\",\"self.colour\")\n",
        "    print(\"shape_leaves\",\"self.shape_leaves\")\n",
        "    print(\"length\",\"self.length\")\n",
        "\n",
        "class Rose(AbstractPlant):\n",
        "  def display_details(self):\n",
        "    print(\"Rose details\")\n",
        "    print(\"colour:\",\"self.colour\")\n",
        "    print(\"shape_leaves\",\"self.shape_leaves\")\n",
        "    print(\"length\",\"self.length\")\n",
        "\n",
        "class Lotus(AbstractPlant):\n",
        "  def display_details(self):\n",
        "    print(\"Lotus details\")\n",
        "    print(\"colour:\",\"self.colour\")\n",
        "    print(\"shape_leaves\",\"self.shape_leaves\")\n",
        "    print(\"length\",\"self.length\")\n",
        "\n",
        "\n",
        "\n",
        "\n",
        "\n",
        "\n"
      ]
    },
    {
      "cell_type": "code",
      "execution_count": null,
      "metadata": {
        "id": "wViMmA3CylcG",
        "colab": {
          "base_uri": "https://localhost:8080/"
        },
        "outputId": "68223034-e520-492a-ef5b-a848cbdef54c"
      },
      "outputs": [
        {
          "output_type": "stream",
          "name": "stdout",
          "text": [
            "name(Public): aaa\n",
            "roll_number(Protected): a01\n",
            "password(Private): secure_password\n",
            "name: aaa\n",
            "roll_number: a01\n",
            "password: new_password\n"
          ]
        }
      ],
      "source": [
        "class Student:\n",
        "    def __init__(self,name,roll_number,password):\n",
        "        self.name=name\n",
        "        self._roll_number=roll_number\n",
        "        self.__password=password\n",
        "\n",
        "    def display_details(self):\n",
        "        print(\"name:\",self.name)\n",
        "        print(\"roll_number:\",self._roll_number)\n",
        "        print(\"password:\",self.__password)\n",
        "\n",
        "    def password(self):\n",
        "        return self.__password\n",
        "\n",
        "\n",
        "    def set_password(self,new_password):\n",
        "        self.__password=new_password\n",
        "\n",
        "student=Student(\"aaa\",\"a01\",\"secure_password\")\n",
        "print(\"name(Public):\",student.name)\n",
        "print(\"roll_number(Protected):\",student._roll_number)\n",
        "print(\"password(Private):\",student.password())\n",
        "\n",
        "student.set_password(\"new_password\")\n",
        "student.display_details()\n",
        "\n"
      ]
    },
    {
      "cell_type": "code",
      "execution_count": null,
      "metadata": {
        "id": "Mj4KtCHCxhEW",
        "colab": {
          "base_uri": "https://localhost:8080/"
        },
        "outputId": "6260647c-357a-4da3-fad9-f8aaed039523"
      },
      "outputs": [
        {
          "output_type": "stream",
          "name": "stdout",
          "text": [
            "enter your username:syeda\n",
            "enter your password:14325\n",
            "password incorrect\n",
            "do you want to change your password?(yes/no):yes\n",
            "enter your new password:987654321\n",
            "password changed successfully!\n"
          ]
        }
      ],
      "source": [
        "class User:\n",
        "  def __init__(self,username,password=\"123456789\"):\n",
        "    self._username=username\n",
        "    self.__password=password\n",
        "  def check_password(self,password):\n",
        "    return self.__password==password\n",
        "\n",
        "  def change_password(self,new_password):\n",
        "    self.__password=new_password\n",
        "    print(\"password changed successfully!\")\n",
        "\n",
        "  def get_username(self):\n",
        "    return self._username\n",
        "\n",
        "username=input(\"enter your username:\")\n",
        "user=User(username)\n",
        "password=input(\"enter your password:\")\n",
        "\n",
        "if user.check_password(password):\n",
        "  print(\"welcome, {}!\".format(user.get_username()))\n",
        "else:\n",
        "  print(\"password incorrect\")\n",
        "  change_option=input(\"do you want to change your password?(yes/no):\").lower()\n",
        "if change_option==\"yes\":\n",
        "   new_password=input(\"enter your new password:\")\n",
        "   user.change_password(new_password)\n",
        "else:\n",
        "  print(\"goodbye!\")\n"
      ]
    },
    {
      "cell_type": "code",
      "source": [
        "# @title Default title text\n",
        "x=int(input(\"enter the no of steps\"))\n",
        "if(x<5):\n",
        "    print(\"1\")\n",
        "elif(x%5==0):\n",
        "    print(x/5)\n",
        "else:\n",
        "    x//5+1\n",
        "    print(\"3\")\n",
        "\n"
      ],
      "metadata": {
        "colab": {
          "base_uri": "https://localhost:8080/"
        },
        "id": "4byNNiDmyzUK",
        "outputId": "1632f1f1-d1b8-4620-9257-30871975c191"
      },
      "execution_count": null,
      "outputs": [
        {
          "output_type": "stream",
          "name": "stdout",
          "text": [
            "enter the no of steps7\n",
            "3\n"
          ]
        }
      ]
    },
    {
      "cell_type": "code",
      "source": [
        "n=int(input(\"enter the positive integer n\"))\n",
        "sum=0\n",
        "i=1\n",
        "for i in range(1,n+1):\n",
        "  if i<0:\n",
        "    print(\"enter the positive integer n\")\n",
        "  else:\n",
        "    sum=sum+i\n",
        "    print(\"sum=\",sum)"
      ],
      "metadata": {
        "colab": {
          "base_uri": "https://localhost:8080/"
        },
        "id": "kqN2abMozS_6",
        "outputId": "cf13caf5-b70f-4f15-c36f-14cf1a87d814"
      },
      "execution_count": null,
      "outputs": [
        {
          "output_type": "stream",
          "name": "stdout",
          "text": [
            "enter the positive integer n6\n",
            "sum= 1\n",
            "sum= 3\n",
            "sum= 6\n",
            "sum= 10\n",
            "sum= 15\n",
            "sum= 21\n"
          ]
        }
      ]
    },
    {
      "cell_type": "code",
      "source": [
        "n=int(input(\"enter the value of n:\"))\n",
        "factorial=1\n",
        "if n<1:\n",
        "  print(\"factorial no exist\")\n",
        "elif(n==0):\n",
        "  print(\"the factorial is 1\")\n",
        "else:\n",
        "  for i in range(1,n+1):\n",
        "    factorial=factorial*i\n",
        "print(\"factorial=\",factorial)\n"
      ],
      "metadata": {
        "colab": {
          "base_uri": "https://localhost:8080/"
        },
        "id": "1froNcC8J8EL",
        "outputId": "4c20e9ff-be3b-481f-91f1-708099cb2b6e"
      },
      "execution_count": null,
      "outputs": [
        {
          "output_type": "stream",
          "name": "stdout",
          "text": [
            "enter the value of n:4\n",
            "factorial= 24\n"
          ]
        }
      ]
    },
    {
      "cell_type": "code",
      "source": [
        "n=int(input(\"enter the value of n:\"))\n",
        "a=0\n",
        "b=1\n",
        "c=0\n",
        "while c<=n:\n",
        "  print(c)\n",
        "  a=b\n",
        "  b=c\n",
        "  c=a+b"
      ],
      "metadata": {
        "colab": {
          "base_uri": "https://localhost:8080/"
        },
        "id": "_Hqf8JLLMs_p",
        "outputId": "652475dd-a598-45fd-f28f-f003b9109e29"
      },
      "execution_count": null,
      "outputs": [
        {
          "output_type": "stream",
          "name": "stdout",
          "text": [
            "enter the value of n:16\n",
            "0\n",
            "1\n",
            "1\n",
            "2\n",
            "3\n",
            "5\n",
            "8\n",
            "13\n"
          ]
        }
      ]
    },
    {
      "cell_type": "code",
      "source": [
        "num=12345678910\n",
        "count=0\n",
        "while num>0:\n",
        "    num=num//10\n",
        "    count=count+1\n",
        "print(\"total count\",count)"
      ],
      "metadata": {
        "colab": {
          "base_uri": "https://localhost:8080/"
        },
        "id": "qKvTqvkfVj_8",
        "outputId": "dc13c4e8-7e4a-43c7-e33f-dcea972d2b01"
      },
      "execution_count": null,
      "outputs": [
        {
          "output_type": "stream",
          "name": "stdout",
          "text": [
            "total count 11\n"
          ]
        }
      ]
    },
    {
      "cell_type": "code",
      "source": [
        "num=int(input(\"enter the value of num:\"))\n",
        "print(\"the multiplication of num:\")\n",
        "for i in range(1,11):\n",
        "  print(num,\"x\",i,\"=\",num*i)"
      ],
      "metadata": {
        "colab": {
          "base_uri": "https://localhost:8080/"
        },
        "id": "6xHhmBCh0KPN",
        "outputId": "46515db6-eabb-47d6-ce8f-195be10c4bfb"
      },
      "execution_count": null,
      "outputs": [
        {
          "output_type": "stream",
          "name": "stdout",
          "text": [
            "enter the value of num:5\n",
            "the multiplication of num:\n",
            "5 x 1 = 5\n",
            "5 x 2 = 10\n",
            "5 x 3 = 15\n",
            "5 x 4 = 20\n",
            "5 x 5 = 25\n",
            "5 x 6 = 30\n",
            "5 x 7 = 35\n",
            "5 x 8 = 40\n",
            "5 x 9 = 45\n",
            "5 x 10 = 50\n"
          ]
        }
      ]
    },
    {
      "cell_type": "code",
      "source": [
        "'''example of polymorphism'''\n",
        "class Animal:\n",
        "  def speak(self):\n",
        "    pass\n",
        "\n",
        "class Dog(Animal):\n",
        "  def speak(self):\n",
        "    return \"woof!\"\n",
        "\n",
        "class Cat(Animal):\n",
        "  def speak(self):\n",
        "    return \"meow!\"\n",
        "\n",
        "def make_animal_speak(animal):\n",
        "  print(animal.speak())\n",
        "\n",
        "dog=Dog()\n",
        "cat=Cat()\n",
        "\n",
        "make_animal_speak(dog)\n",
        "make_animal_speak(cat)"
      ],
      "metadata": {
        "colab": {
          "base_uri": "https://localhost:8080/"
        },
        "id": "uq0T2HdZ1CsJ",
        "outputId": "d3468e2a-7534-4795-d5aa-d77e5edbe448"
      },
      "execution_count": null,
      "outputs": [
        {
          "output_type": "stream",
          "name": "stdout",
          "text": [
            "woof!\n",
            "meow!\n"
          ]
        }
      ]
    },
    {
      "cell_type": "code",
      "source": [
        "'''operater overloading'''\n",
        "class ComplexNumber:\n",
        "  def __init__(self,real,imaginary):\n",
        "    self.real=real\n",
        "    self.imaginary=imaginary\n",
        "\n",
        "  def __add__(self,other):\n",
        "    return(f\"{self.real+other.real}+{self.imaginary+other.imaginary}i\")\n",
        "\n",
        "c1=ComplexNumber(2,2)\n",
        "c2=ComplexNumber(1,2)\n",
        "\n",
        "print(c1+c2)"
      ],
      "metadata": {
        "colab": {
          "base_uri": "https://localhost:8080/"
        },
        "id": "nLp5vVJA_iwD",
        "outputId": "26bc532e-9b8f-448b-e84a-6a757916e8f0"
      },
      "execution_count": null,
      "outputs": [
        {
          "output_type": "stream",
          "name": "stdout",
          "text": [
            "3+4i\n"
          ]
        }
      ]
    },
    {
      "cell_type": "code",
      "source": [
        "class ComplexNumber:\n",
        "  def __init__(self,real,imaginary):\n",
        "    self.real=real\n",
        "    self.imaginary=imaginary\n",
        "  def __sub__(self,other):\n",
        "    return(f\"{self.real-other.real}-{self.imaginary-other.imaginary}i\")\n",
        "\n",
        "c1=ComplexNumber(4,3)\n",
        "c2=ComplexNumber(2,1)\n",
        "print(c1-c2)"
      ],
      "metadata": {
        "colab": {
          "base_uri": "https://localhost:8080/"
        },
        "id": "lWm7hTk_G348",
        "outputId": "14fafaeb-b6ab-463a-db83-7b63e9396dc6"
      },
      "execution_count": null,
      "outputs": [
        {
          "output_type": "stream",
          "name": "stdout",
          "text": [
            "2-2i\n"
          ]
        }
      ]
    },
    {
      "cell_type": "code",
      "source": [
        "class Party:\n",
        "  def __init__(self,name,money):\n",
        "    self.name=name\n",
        "    self.money=money\n",
        "\n",
        "  def __gt__(self,other):\n",
        "    if self.money>other.money:\n",
        "      return True\n",
        "    else:\n",
        "      return False\n",
        "\n",
        "p1=Party(\"syeda\",3000)\n",
        "p2=Party(\"nafisa\",4000)\n",
        "if p1>p2:\n",
        "  print(f\"{p1.name} will pay the money\")\n",
        "else:\n",
        "  print(f\"{p2.name} will pay the mmoney\")"
      ],
      "metadata": {
        "colab": {
          "base_uri": "https://localhost:8080/"
        },
        "id": "k0J8kNHpIcE8",
        "outputId": "419ebd5f-20ae-43dd-cd5a-5720fe5c9cf2"
      },
      "execution_count": null,
      "outputs": [
        {
          "output_type": "stream",
          "name": "stdout",
          "text": [
            "nafisa will pay the mmoney\n"
          ]
        }
      ]
    },
    {
      "cell_type": "code",
      "source": [
        "class Location:\n",
        "  def __init__(self,l1,l2):\n",
        "    self.l1=l1\n",
        "    self.l2=l2\n",
        "\n",
        "  def __add__(self,other):\n",
        "    print(f\"{self.l1+other.l1}+{self.l2+other.l2}\")\n"
      ],
      "metadata": {
        "id": "_zgF6sO2LSlU"
      },
      "execution_count": null,
      "outputs": []
    },
    {
      "cell_type": "code",
      "source": [
        "'''method overloading'''\n",
        "class Demo:\n",
        "  def add(self,*args):\n",
        "    total=0\n",
        "    for i in args:\n",
        "      total=total+i\n",
        "      return total\n",
        "d=Demo()\n",
        "print(d.add(2,3))\n",
        "print(d.add(10,20,30))"
      ],
      "metadata": {
        "colab": {
          "base_uri": "https://localhost:8080/"
        },
        "id": "TGZyB_XGloHf",
        "outputId": "d4adf877-44d2-4065-cbcb-1c613456c6c3"
      },
      "execution_count": null,
      "outputs": [
        {
          "output_type": "stream",
          "name": "stdout",
          "text": [
            "2\n",
            "10\n"
          ]
        }
      ]
    },
    {
      "cell_type": "code",
      "source": [
        "'''Method over riding'''\n",
        "class Animal:\n",
        "  def speak(self):\n",
        "    return \"Animal makes a sound\"\n",
        "\n",
        "class Dog(Animal):\n",
        "  def speak(self):\n",
        "    return \"woof!\"\n",
        "\n",
        "class Cat(Animal):\n",
        "  def speak(self):\n",
        "    return \"meow!\"\n",
        "\n",
        "class Cow(Animal):\n",
        "  pass\n",
        "\n",
        "  def make_animal_speak(animal):\n",
        "    print(animal.speak())\n",
        "\n",
        "\n",
        "dog=Dog()\n",
        "cat=Cat()\n",
        "cow=Cow()\n",
        "\n",
        "make_animal_speak(dog)\n",
        "make_animal_speak(cat)\n",
        "make_animal_speak(cow)"
      ],
      "metadata": {
        "colab": {
          "base_uri": "https://localhost:8080/",
          "height": 211
        },
        "id": "dJ0I_veopnDp",
        "outputId": "ec30830c-b9e4-439f-eef6-47862f7d43b3"
      },
      "execution_count": null,
      "outputs": [
        {
          "output_type": "error",
          "ename": "NameError",
          "evalue": "name 'make_animal_speak' is not defined",
          "traceback": [
            "\u001b[0;31m---------------------------------------------------------------------------\u001b[0m",
            "\u001b[0;31mNameError\u001b[0m                                 Traceback (most recent call last)",
            "\u001b[0;32m<ipython-input-10-8b5eeac45e73>\u001b[0m in \u001b[0;36m<cell line: 25>\u001b[0;34m()\u001b[0m\n\u001b[1;32m     23\u001b[0m \u001b[0mcow\u001b[0m\u001b[0;34m=\u001b[0m\u001b[0mCow\u001b[0m\u001b[0;34m(\u001b[0m\u001b[0;34m)\u001b[0m\u001b[0;34m\u001b[0m\u001b[0;34m\u001b[0m\u001b[0m\n\u001b[1;32m     24\u001b[0m \u001b[0;34m\u001b[0m\u001b[0m\n\u001b[0;32m---> 25\u001b[0;31m \u001b[0mmake_animal_speak\u001b[0m\u001b[0;34m(\u001b[0m\u001b[0mdog\u001b[0m\u001b[0;34m)\u001b[0m\u001b[0;34m\u001b[0m\u001b[0;34m\u001b[0m\u001b[0m\n\u001b[0m\u001b[1;32m     26\u001b[0m \u001b[0mmake_animal_speak\u001b[0m\u001b[0;34m(\u001b[0m\u001b[0mcat\u001b[0m\u001b[0;34m)\u001b[0m\u001b[0;34m\u001b[0m\u001b[0;34m\u001b[0m\u001b[0m\n\u001b[1;32m     27\u001b[0m \u001b[0mmake_animal_speak\u001b[0m\u001b[0;34m(\u001b[0m\u001b[0mcow\u001b[0m\u001b[0;34m)\u001b[0m\u001b[0;34m\u001b[0m\u001b[0;34m\u001b[0m\u001b[0m\n",
            "\u001b[0;31mNameError\u001b[0m: name 'make_animal_speak' is not defined"
          ]
        }
      ]
    },
    {
      "cell_type": "code",
      "source": [
        "class ATM:\n",
        "  def __init__(self,balance):\n",
        "    self.balance=balance\n",
        "\n",
        "  def __deposite__(self,)"
      ],
      "metadata": {
        "colab": {
          "base_uri": "https://localhost:8080/",
          "height": 193
        },
        "id": "Gq15WqDNGN3s",
        "outputId": "233d599c-482d-4b0d-eeda-05e19feaa051"
      },
      "execution_count": null,
      "outputs": [
        {
          "output_type": "error",
          "ename": "NameError",
          "evalue": "name '_name_' is not defined",
          "traceback": [
            "\u001b[0;31m---------------------------------------------------------------------------\u001b[0m",
            "\u001b[0;31mNameError\u001b[0m                                 Traceback (most recent call last)",
            "\u001b[0;32m<ipython-input-11-c8dd51fe098b>\u001b[0m in \u001b[0;36m<cell line: 45>\u001b[0;34m()\u001b[0m\n\u001b[1;32m     43\u001b[0m             \u001b[0mprint\u001b[0m\u001b[0;34m(\u001b[0m\u001b[0;34m\"Invalid choice. Please try again.\"\u001b[0m\u001b[0;34m)\u001b[0m\u001b[0;34m\u001b[0m\u001b[0;34m\u001b[0m\u001b[0m\n\u001b[1;32m     44\u001b[0m \u001b[0;34m\u001b[0m\u001b[0m\n\u001b[0;32m---> 45\u001b[0;31m \u001b[0;32mif\u001b[0m \u001b[0m_name_\u001b[0m \u001b[0;34m==\u001b[0m \u001b[0;34m\"_main_\"\u001b[0m\u001b[0;34m:\u001b[0m\u001b[0;34m\u001b[0m\u001b[0;34m\u001b[0m\u001b[0m\n\u001b[0m\u001b[1;32m     46\u001b[0m     \u001b[0mmain\u001b[0m\u001b[0;34m(\u001b[0m\u001b[0;34m)\u001b[0m\u001b[0;34m\u001b[0m\u001b[0;34m\u001b[0m\u001b[0m\n",
            "\u001b[0;31mNameError\u001b[0m: name '_name_' is not defined"
          ]
        }
      ]
    },
    {
      "cell_type": "code",
      "source": [
        "'''linked list'''\n",
        "class Node:\n",
        "   def ___init__(self,data):\n",
        "      self.data=data\n",
        "      self.next=None\n",
        "\n",
        "   def insertAtBegin(self,data):\n",
        "      new_node=Node(data)\n",
        "      if self.head is none:\n",
        "         self.head=new_node\n",
        "         return\n",
        "      else:\n",
        "        new_node.next=self.head\n",
        "        self.head=new_node\n",
        "\n",
        "   def insertAtBegin(self,data,index):\n",
        "      new_node=Node(data)\n",
        "      current_node=self.head\n",
        "      position=0\n",
        "\n",
        "   def insertAtEnd(self,data):\n",
        "    new_node=Node(data)\n",
        "    if self.head is None:\n",
        "       self.head=new_node\n",
        "       return\n",
        "\n",
        "    current_node=self.head\n",
        "        while(current_node.next):\n",
        "        current_node=current_node.next\n",
        "\n",
        "    current_node.next=new_node\n",
        "\n",
        "      if pasition==index:\n",
        "        self.insertAtBegin(data)\n",
        "      else:\n",
        "        while(current_node!=None and pisition+1!=index):\n",
        "          position=position+1\n",
        "          current_node=current_node.next\n",
        "        if current_node!=None:\n",
        "          new_node.next=current_node.next\n",
        "          current_node.next=new_node\n",
        "        else:\n",
        "          print(\"Index not present\")\n",
        "\n",
        "   def remove_first_node(self):\n",
        "    if(self.head==None):\n",
        "      return\n",
        "      self.head=self.head.next"
      ],
      "metadata": {
        "colab": {
          "base_uri": "https://localhost:8080/",
          "height": 106
        },
        "id": "8TVCDXqHCMCY",
        "outputId": "5b019769-71e6-4b8d-8684-996623bed1d0"
      },
      "execution_count": null,
      "outputs": [
        {
          "output_type": "error",
          "ename": "IndentationError",
          "evalue": "unexpected indent (<ipython-input-17-04588fc089bd>, line 28)",
          "traceback": [
            "\u001b[0;36m  File \u001b[0;32m\"<ipython-input-17-04588fc089bd>\"\u001b[0;36m, line \u001b[0;32m28\u001b[0m\n\u001b[0;31m    while(current_node.next):\u001b[0m\n\u001b[0m    ^\u001b[0m\n\u001b[0;31mIndentationError\u001b[0m\u001b[0;31m:\u001b[0m unexpected indent\n"
          ]
        }
      ]
    },
    {
      "cell_type": "code",
      "source": [
        "'''removing last Node'''\n",
        "def remove_last_node(self):\n",
        "  if self.head is None:\n",
        "    return\n",
        "\n",
        "  current_node=self.head\n",
        "  while current_node.next.next:\n",
        "    current_node=current_node.next\n",
        "    if current_node.next:\n",
        "      current_node.next=None\n",
        "    else:\n",
        "      self.head=None"
      ],
      "metadata": {
        "id": "0T-8aqbmqTk3"
      },
      "execution_count": null,
      "outputs": []
    },
    {
      "cell_type": "code",
      "source": [
        "''''removing data from middle'''\n",
        "\n",
        "def remove_node(self,data):\n",
        "  current_node=self.head\n",
        "  if current_node.data==data:\n",
        "    self.remove_first_node()\n",
        "    return\n",
        "\n",
        "  while current_node is not None and current_node.next.data!=data:\n",
        "    current_node=current_node.next\n",
        "  if current_node is None:\n",
        "    return\n",
        "  else:\n",
        "    current_node.next=current_node.next.next\n",
        "\n"
      ],
      "metadata": {
        "id": "M4ImjjVWWCWV"
      },
      "execution_count": null,
      "outputs": []
    },
    {
      "cell_type": "code",
      "source": [
        "class Node:\n",
        "    def _init_(self, data=None):\n",
        "        self.data = data\n",
        "        self.next = None\n",
        "\n",
        "class LinkedList():\n",
        "    def _init_(self):\n",
        "        self.head = None\n",
        "\n",
        "    def is_empty(self):\n",
        "        return self.head is None\n",
        "\n",
        "    def append(self, data):\n",
        "        new_node = Node(data)\n",
        "        if self.is_empty():\n",
        "            self.head = new_node\n",
        "        else:\n",
        "            current = self.head\n",
        "            while current.next is not None:\n",
        "                current = current.next\n",
        "            current.next = new_node\n",
        "\n",
        "    def prepend(self, data):\n",
        "        new_node = Node(data)\n",
        "        new_node.next = self.head\n",
        "        self.head = new_node\n",
        "\n",
        "    def delete(self, data):\n",
        "        if self.is_empty():\n",
        "            return\n",
        "\n",
        "        if self.head.data == data:\n",
        "            self.head = self.head.next\n",
        "            return\n",
        "\n",
        "        current = self.head\n",
        "        while current.next is not None and current.next.data != data:\n",
        "            current = current.next\n",
        "\n",
        "        if current.next is not None:\n",
        "            current.next = current.next.next\n",
        "\n",
        "    def display(self):\n",
        "        elements = []\n",
        "        current = self.head\n",
        "        while current:\n",
        "            elements.append(current.data)\n",
        "            current = current.next\n",
        "        print(\" -> \".join(map(str, elements)))\n",
        "\n",
        "    def detect_loop(self):\n",
        "        slow = self.head\n",
        "        fast = self.head\n",
        "\n",
        "        while fast is not None and fast.next is not None:\n",
        "            slow = slow.next\n",
        "            fast = fast.next.next\n",
        "\n",
        "            if slow == fast:\n",
        "                return True\n",
        "\n",
        "        return False\n",
        "\n",
        "\n",
        "# Example usage:\n",
        "my_linked_list = LinkedList()\n",
        "\n",
        "print(my_linked_list.is_empty())\n",
        "my_linked_list.append(1)\n",
        "my_linked_list.append(2)\n",
        "my_linked_list.append(3)\n",
        "my_linked_list.prepend(0)\n",
        "my_linked_list.display()  # Output: 0 -> 1 -> 2 -> 3\n",
        "print(my_linked_list.is_empty())\n",
        "\n",
        "my_linked_list.delete(2)\n",
        "my_linked_list.display()  # Output: 0 -> 1 -> 3"
      ],
      "metadata": {
        "colab": {
          "base_uri": "https://localhost:8080/",
          "height": 332
        },
        "id": "0ELoj5_v84tU",
        "outputId": "7d09f235-f1d5-453e-c5c0-856a491c71b8"
      },
      "execution_count": null,
      "outputs": [
        {
          "output_type": "error",
          "ename": "AttributeError",
          "evalue": "'LinkedList' object has no attribute 'head'",
          "traceback": [
            "\u001b[0;31m---------------------------------------------------------------------------\u001b[0m",
            "\u001b[0;31mAttributeError\u001b[0m                            Traceback (most recent call last)",
            "\u001b[0;32m<ipython-input-17-b9fe2fc11abf>\u001b[0m in \u001b[0;36m<cell line: 68>\u001b[0;34m()\u001b[0m\n\u001b[1;32m     66\u001b[0m \u001b[0mmy_linked_list\u001b[0m \u001b[0;34m=\u001b[0m \u001b[0mLinkedList\u001b[0m\u001b[0;34m(\u001b[0m\u001b[0;34m)\u001b[0m\u001b[0;34m\u001b[0m\u001b[0;34m\u001b[0m\u001b[0m\n\u001b[1;32m     67\u001b[0m \u001b[0;34m\u001b[0m\u001b[0m\n\u001b[0;32m---> 68\u001b[0;31m \u001b[0mprint\u001b[0m\u001b[0;34m(\u001b[0m\u001b[0mmy_linked_list\u001b[0m\u001b[0;34m.\u001b[0m\u001b[0mis_empty\u001b[0m\u001b[0;34m(\u001b[0m\u001b[0;34m)\u001b[0m\u001b[0;34m)\u001b[0m\u001b[0;34m\u001b[0m\u001b[0;34m\u001b[0m\u001b[0m\n\u001b[0m\u001b[1;32m     69\u001b[0m \u001b[0mmy_linked_list\u001b[0m\u001b[0;34m.\u001b[0m\u001b[0mappend\u001b[0m\u001b[0;34m(\u001b[0m\u001b[0;36m1\u001b[0m\u001b[0;34m)\u001b[0m\u001b[0;34m\u001b[0m\u001b[0;34m\u001b[0m\u001b[0m\n\u001b[1;32m     70\u001b[0m \u001b[0mmy_linked_list\u001b[0m\u001b[0;34m.\u001b[0m\u001b[0mappend\u001b[0m\u001b[0;34m(\u001b[0m\u001b[0;36m2\u001b[0m\u001b[0;34m)\u001b[0m\u001b[0;34m\u001b[0m\u001b[0;34m\u001b[0m\u001b[0m\n",
            "\u001b[0;32m<ipython-input-17-b9fe2fc11abf>\u001b[0m in \u001b[0;36mis_empty\u001b[0;34m(self)\u001b[0m\n\u001b[1;32m      9\u001b[0m \u001b[0;34m\u001b[0m\u001b[0m\n\u001b[1;32m     10\u001b[0m     \u001b[0;32mdef\u001b[0m \u001b[0mis_empty\u001b[0m\u001b[0;34m(\u001b[0m\u001b[0mself\u001b[0m\u001b[0;34m)\u001b[0m\u001b[0;34m:\u001b[0m\u001b[0;34m\u001b[0m\u001b[0;34m\u001b[0m\u001b[0m\n\u001b[0;32m---> 11\u001b[0;31m         \u001b[0;32mreturn\u001b[0m \u001b[0mself\u001b[0m\u001b[0;34m.\u001b[0m\u001b[0mhead\u001b[0m \u001b[0;32mis\u001b[0m \u001b[0;32mNone\u001b[0m\u001b[0;34m\u001b[0m\u001b[0;34m\u001b[0m\u001b[0m\n\u001b[0m\u001b[1;32m     12\u001b[0m \u001b[0;34m\u001b[0m\u001b[0m\n\u001b[1;32m     13\u001b[0m     \u001b[0;32mdef\u001b[0m \u001b[0mappend\u001b[0m\u001b[0;34m(\u001b[0m\u001b[0mself\u001b[0m\u001b[0;34m,\u001b[0m \u001b[0mdata\u001b[0m\u001b[0;34m)\u001b[0m\u001b[0;34m:\u001b[0m\u001b[0;34m\u001b[0m\u001b[0;34m\u001b[0m\u001b[0m\n",
            "\u001b[0;31mAttributeError\u001b[0m: 'LinkedList' object has no attribute 'head'"
          ]
        }
      ]
    },
    {
      "cell_type": "code",
      "source": [
        "'''linear search'''\n",
        "L1=[35,27,92,47,11]\n",
        "key=47\n",
        "for i in L1:\n",
        "  if i==key:\n",
        "    print('key found at index')\n",
        "  else:\n",
        "    print('key not found')"
      ],
      "metadata": {
        "colab": {
          "base_uri": "https://localhost:8080/"
        },
        "id": "JxDhbzsJNOFI",
        "outputId": "45ba5e1e-eea7-4cb4-fb1a-725f1ec593e0"
      },
      "execution_count": null,
      "outputs": [
        {
          "output_type": "stream",
          "name": "stdout",
          "text": [
            "key not found\n",
            "key not found\n",
            "key not found\n",
            "key found at index\n",
            "key not found\n"
          ]
        }
      ]
    },
    {
      "cell_type": "code",
      "source": [
        "'''user list '''\n",
        "arr=input(\"enter the list of numbers seperated by spaces:\").split()\n",
        "arr=[int(x) for x in arr]\n",
        "target=int(input(\"enter the target value to search:\"))\n",
        "found=False\n",
        "for i in range(len(arr)):\n",
        "  if arr[i]==target:\n",
        "    print(f\"Target{target} found at index {i}.\")\n",
        "    found=True\n",
        "    break\n",
        "if not found:\n",
        "    print(f\"{Target}not found in the array.\")\n",
        "\n",
        "'''limitation:-takes much time to execute if the length of the list is much'''"
      ],
      "metadata": {
        "colab": {
          "base_uri": "https://localhost:8080/",
          "height": 87
        },
        "id": "W0SdFJbIrESJ",
        "outputId": "4d0efb1b-84ab-47bf-bd69-e8e297154eaa"
      },
      "execution_count": null,
      "outputs": [
        {
          "output_type": "stream",
          "name": "stdout",
          "text": [
            "enter the list of numbers seperated by spaces:1 2 3 4 5 6\n",
            "enter the target value to search:3\n",
            "Target3 found at index 2.\n"
          ]
        },
        {
          "output_type": "execute_result",
          "data": {
            "text/plain": [
              "'limitation:-takes much time to execute if the length of the list is much'"
            ],
            "application/vnd.google.colaboratory.intrinsic+json": {
              "type": "string"
            }
          },
          "metadata": {},
          "execution_count": 7
        }
      ]
    },
    {
      "cell_type": "code",
      "source": [
        " '''binary search'''\n",
        "arr=input(\"enter the list of numbers seperated by spaces:\").split()\n",
        "arr=[int(x) for x in arr]\n",
        "target=int(input(\"enter the target value to search:\"))\n",
        "\n",
        " start,end=0,len(arr)-1\n",
        " found=False\n",
        " while start<=end:\n",
        "  mid =(start+end)//2\n",
        "  if arr[mid]==target:\n",
        "    print(f\"Target{target}found at index{mid}.\")\n",
        "    found=True\n",
        "    break\n",
        "  elif arr[mid]<target:\n",
        "      start=mid+1\n",
        "  else:\n",
        "      end=mid-1\n",
        "if not found:\n",
        "  print(f\"Target{target}not found in the array.\")"
      ],
      "metadata": {
        "colab": {
          "base_uri": "https://localhost:8080/"
        },
        "id": "vw2oM51guUAb",
        "outputId": "79c0217f-cc8b-4452-cb3c-51de3b9a9940"
      },
      "execution_count": null,
      "outputs": [
        {
          "output_type": "stream",
          "name": "stdout",
          "text": [
            "enter the list of numbers seperated by spaces:1 2 3 4 5 6\n",
            "enter the target value to search:5\n",
            "Target5found at index4.\n"
          ]
        }
      ]
    },
    {
      "cell_type": "code",
      "source": [
        "class stack:\n",
        "  def __init__(self):\n",
        "    self.items=[]\n",
        "  def is_empty(self):\n",
        "    return len(self.items)==0\n",
        "  def push(self,items):\n",
        "    self.items.append(items)\n",
        "  def pop(self):\n",
        "    if not self.is_empty():\n",
        "      return self.items.pop()\n",
        "    else:\n",
        "      raise IndexError(\"pop from an empty stack\")\n",
        "  def peak(self):\n",
        "    if not self.is_empty():\n",
        "      return self.items[-1]\n",
        "    else:\n",
        "      raise IndexError(\"peak from an empty stack\")\n",
        "  def size(self):\n",
        "    return len(self.items)\n",
        "stack=stack()\n",
        "print(\"Is the stack empty?\",stack.is_empty())\n",
        "stack.push(1)\n",
        "stack.push(2)\n",
        "stack.push(3)\n",
        "print(\"stack:\",stack.items)\n",
        "print('Top of the stack:',stack.peak())\n",
        "print(\"pop:\",stack.pop())\n",
        "print(\"Stack after pop:\",stack.items)\n",
        "print(\"Is the stack empty?\",stack.is_empty())\n",
        "print(\"size of the stack:\",stack.size())"
      ],
      "metadata": {
        "id": "qwtrDpWM7F0i",
        "colab": {
          "base_uri": "https://localhost:8080/"
        },
        "outputId": "241750a1-5491-4c61-a4df-ddab7debbb83"
      },
      "execution_count": null,
      "outputs": [
        {
          "output_type": "stream",
          "name": "stdout",
          "text": [
            "Is the stack empty? True\n",
            "stack: [1, 2, 3]\n",
            "Top of the stack: 3\n",
            "pop: 3\n",
            "Stack after pop: [1, 2]\n",
            "Is the stack empty? False\n",
            "size of the stack: 2\n"
          ]
        }
      ]
    },
    {
      "cell_type": "code",
      "source": [
        "class Node:\n",
        "  def __init__(self,data):\n",
        "    self.data=data\n",
        "    self.next=None\n",
        "class Stack:\n",
        "  def __init__(self,data):\n",
        "    self.head=None\n",
        "  def is_empty(self):\n",
        "    return self.head is None\n",
        "  def push(self,data):\n",
        "    new_node=Node(data)\n",
        "    new_node.next=self.head\n",
        "    self.head=new_node\n",
        "  def pop(self):\n",
        "    if self.is_empty():\n",
        "      return None\n",
        "    popped=self.head.data\n",
        "    self.head=self.head.next\n",
        "    return popped\n",
        "  def peak(self):\n",
        "    if self.is_empty():\n",
        "      return None\n",
        "      return self.head.data\n",
        "  def display(self):\n",
        "    current=self.head\n",
        "    while current:\n",
        "      print(current.data,end=\"->\")\n",
        "      current=current.next\n",
        "      print(\"None\")\n",
        "stack=stack()\n",
        "stack=push(1)\n",
        "stack=push(2)\n",
        "stack=push(3)\n",
        "stack.display()\n",
        "print(\"popped:\",stack.pop)\n",
        "\n",
        "\n",
        "\n",
        "\n",
        "\n",
        "\n"
      ],
      "metadata": {
        "id": "SE7sxOTrpJjw"
      },
      "execution_count": null,
      "outputs": []
    },
    {
      "cell_type": "code",
      "source": [
        "class queueList:\n",
        "  def __init__(self):\n",
        "    self.items = []\n",
        "  def is_empty(self):\n",
        "    return len(self.items)==0\n",
        "  def enqueue(self,item):\n",
        "    self.items.append(item)\n",
        "  def dequeue(self):\n",
        "    if not self.is_empty():\n",
        "      return self.items.pop(0)\n",
        "    else:\n",
        "      raise IndexError(\"dequeue from an empty queue\")\n",
        "  def peak(self):\n",
        "    if not self.is_empty():\n",
        "      return self.items[0]\n",
        "    else:\n",
        "      raise IndexError(\"peak from an empty queue\")\n",
        "  def size(self):\n",
        "    return len(self.items)\n",
        "queue=queueList()\n",
        "queue.enqueue(1)\n",
        "queue.enqueue(2)\n",
        "queue.enqueue(3)\n",
        "print(\"Front of the queue:\",queue.peak())\n",
        "print(\"Dequeue:\",queue.dequeue())\n",
        "print(\"size of the queue:\",queue.size())"
      ],
      "metadata": {
        "colab": {
          "base_uri": "https://localhost:8080/"
        },
        "id": "mhFVZjfLxZm7",
        "outputId": "f53129c0-1575-4ab4-e78c-6ecc0ee58271"
      },
      "execution_count": null,
      "outputs": [
        {
          "output_type": "stream",
          "name": "stdout",
          "text": [
            "Front of the queue: 1\n",
            "Dequeue: 1\n",
            "size of the queue: 2\n"
          ]
        }
      ]
    },
    {
      "cell_type": "code",
      "source": [
        "class Node:\n",
        "  def __init__(self,data):\n",
        "    self.data=data\n",
        "    self.next=None\n",
        "  def queueLinkedList:\n",
        "    def __init__(self):\n",
        "      self.front=None\n",
        "      self.rear=None\n",
        "  def is_empty(self):\n",
        "    return self.front is None\n",
        "  def enqueue(self,item):\n",
        "    new_node=Node(item)\n",
        "    if self.is_empty():\n",
        "      self.front=new_node\n",
        "      self.rear=new_node\n",
        "    else:\n",
        "      self.rear.next=new_node\n",
        "      self.rear=new_node\n",
        ""
      ],
      "metadata": {
        "id": "zmVcNgoqEQrF"
      },
      "execution_count": null,
      "outputs": []
    }
  ],
  "metadata": {
    "colab": {
      "provenance": [],
      "authorship_tag": "ABX9TyOLBsR8SQlBIbCbjNY58SYu",
      "include_colab_link": true
    },
    "kernelspec": {
      "display_name": "Python 3",
      "name": "python3"
    },
    "language_info": {
      "name": "python"
    }
  },
  "nbformat": 4,
  "nbformat_minor": 0
}