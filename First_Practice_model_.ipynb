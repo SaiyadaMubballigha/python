{
  "nbformat": 4,
  "nbformat_minor": 0,
  "metadata": {
    "colab": {
      "provenance": [],
      "authorship_tag": "ABX9TyPqnfAFOAQ9j4rMq5vcANol",
      "include_colab_link": true
    },
    "kernelspec": {
      "name": "python3",
      "display_name": "Python 3"
    },
    "language_info": {
      "name": "python"
    }
  },
  "cells": [
    {
      "cell_type": "markdown",
      "metadata": {
        "id": "view-in-github",
        "colab_type": "text"
      },
      "source": [
        "<a href=\"https://colab.research.google.com/github/SaiyadaMubballigha/python/blob/main/First_Practice_model_.ipynb\" target=\"_parent\"><img src=\"https://colab.research.google.com/assets/colab-badge.svg\" alt=\"Open In Colab\"/></a>"
      ]
    },
    {
      "cell_type": "code",
      "source": [
        "'''checking weirdness'''\n",
        "def check_weird(n):\n",
        "  if n%2!=0:\n",
        "    print(\"weird\")\n",
        "  else:\n",
        "    print(\"not weird\")\n",
        "def even_weird(m):\n",
        "    for m in range(2,5):\n",
        "      if m%2==0:\n",
        "        print(\"not weird\")\n",
        "      elif m in range(6,20):\n",
        "        print(\"weird\")\n",
        "      else:\n",
        "        m>20\n",
        "        print(\"not weird\")\n",
        "check_weirdness(3)\n",
        "check_weirdness(24)\n"
      ],
      "metadata": {
        "colab": {
          "base_uri": "https://localhost:8080/"
        },
        "id": "PZcmFJF0-YuP",
        "outputId": "213d07ae-6bff-4204-dd51-2c1ce6e07ddd"
      },
      "execution_count": 9,
      "outputs": [
        {
          "output_type": "stream",
          "name": "stdout",
          "text": [
            "Weird\n",
            "Not Weird\n"
          ]
        }
      ]
    },
    {
      "cell_type": "code",
      "source": [
        "'''Arithematic operations'''\n",
        "a = 3\n",
        "b = 2\n",
        "print(a+b)\n",
        "print(a-b)\n",
        "print(a*b)"
      ],
      "metadata": {
        "colab": {
          "base_uri": "https://localhost:8080/"
        },
        "id": "bLu8Jn2JBRDO",
        "outputId": "39f41acb-9cea-4166-fda5-563ddd4edbc8"
      },
      "execution_count": 7,
      "outputs": [
        {
          "output_type": "stream",
          "name": "stdout",
          "text": [
            "5\n",
            "1\n",
            "6\n"
          ]
        }
      ]
    },
    {
      "cell_type": "code",
      "source": [
        "'''divition operation'''\n",
        "a = 4\n",
        "b = 3\n",
        "print(a//b)\n",
        "print(float(a)/b)"
      ],
      "metadata": {
        "colab": {
          "base_uri": "https://localhost:8080/"
        },
        "id": "RscauDf6BZGb",
        "outputId": "dd9ca062-bc37-4b2f-a724-f123ecc26027"
      },
      "execution_count": 6,
      "outputs": [
        {
          "output_type": "stream",
          "name": "stdout",
          "text": [
            "1\n",
            "1.3333333333333333\n"
          ]
        }
      ]
    }
  ]
}